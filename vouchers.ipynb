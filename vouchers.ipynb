{
 "cells": [
  {
   "cell_type": "code",
   "execution_count": 7,
   "id": "cbc5a055",
   "metadata": {},
   "outputs": [],
   "source": [
    "import numpy as np\n",
    "from doubleml.datasets import fetch_bonus\n",
    "from doubleml import DoubleMLData\n",
    "import statsmodels.api as sm\n",
    "from sklearn.base import clone\n",
    "from sklearn.ensemble import RandomForestRegressor, RandomForestClassifier\n",
    "from sklearn.linear_model import LassoCV\n",
    "from doubleml import DoubleMLPLR\n",
    "from doubleml import DoubleMLPLR\n",
    "from prettytable import PrettyTable\n",
    "from PIL import Image, ImageDraw, ImageFont\n",
    "from sklearn.linear_model import LinearRegression, LogisticRegression"
   ]
  },
  {
   "cell_type": "code",
   "execution_count": 14,
   "id": "ba0dcabc",
   "metadata": {},
   "outputs": [
    {
     "name": "stdout",
     "output_type": "stream",
     "text": [
      "(521,) (521, 1) (521,)\n"
     ]
    }
   ],
   "source": [
    "np.random.seed(1)\n",
    "df = fetch_bonus('DataFrame')\n",
    "df.head(5)\n",
    "\n",
    "import pandas as pd\n",
    "import numpy as np\n",
    "df = pd.read_csv('/Users/pranjal/Desktop/Causal-Inference/data/nyvoucher.csv')\n",
    "outcome = 'post_ach'\n",
    "treatment = 'voucher'\n",
    "rest = list(df.drop([outcome, treatment, 'pre_ach'], axis = 1).columns)\n",
    "df = df[[outcome] + [treatment] + rest]\n",
    "df = df.dropna()\n",
    "y = df[outcome]\n",
    "d = df[treatment]\n",
    "x = df[rest].astype('float')\n",
    "\n",
    "l = RandomForestRegressor(n_estimators = 500, max_features = 'sqrt', max_depth= 5)\n",
    "g = clone(l)\n",
    "m = RandomForestClassifier(n_estimators = 500, max_features = 'sqrt', max_depth= 5)\n",
    "\n",
    "def score(y, d, l_hat, m_hat, g_hat, smpls):\n",
    "    u_hat = y - g_hat\n",
    "    psi_a = -np.multiply(d, d)\n",
    "    psi_b = np.multiply(d, u_hat)\n",
    "    return psi_a, psi_b\n",
    "\n",
    "print(y.shape, x.shape, d.shape)"
   ]
  },
  {
   "cell_type": "code",
   "execution_count": 15,
   "id": "31fa078c",
   "metadata": {},
   "outputs": [
    {
     "data": {
      "text/html": [
       "<div>\n",
       "<style scoped>\n",
       "    .dataframe tbody tr th:only-of-type {\n",
       "        vertical-align: middle;\n",
       "    }\n",
       "\n",
       "    .dataframe tbody tr th {\n",
       "        vertical-align: top;\n",
       "    }\n",
       "\n",
       "    .dataframe thead th {\n",
       "        text-align: right;\n",
       "    }\n",
       "</style>\n",
       "<table border=\"1\" class=\"dataframe\">\n",
       "  <thead>\n",
       "    <tr style=\"text-align: right;\">\n",
       "      <th></th>\n",
       "      <th>post_ach</th>\n",
       "      <th>voucher</th>\n",
       "      <th>s_id</th>\n",
       "    </tr>\n",
       "  </thead>\n",
       "  <tbody>\n",
       "    <tr>\n",
       "      <th>0</th>\n",
       "      <td>83.0</td>\n",
       "      <td>0</td>\n",
       "      <td>42</td>\n",
       "    </tr>\n",
       "    <tr>\n",
       "      <th>1</th>\n",
       "      <td>4.0</td>\n",
       "      <td>0</td>\n",
       "      <td>194</td>\n",
       "    </tr>\n",
       "    <tr>\n",
       "      <th>2</th>\n",
       "      <td>3.5</td>\n",
       "      <td>1</td>\n",
       "      <td>218</td>\n",
       "    </tr>\n",
       "    <tr>\n",
       "      <th>3</th>\n",
       "      <td>26.5</td>\n",
       "      <td>1</td>\n",
       "      <td>261</td>\n",
       "    </tr>\n",
       "    <tr>\n",
       "      <th>4</th>\n",
       "      <td>2.0</td>\n",
       "      <td>1</td>\n",
       "      <td>304</td>\n",
       "    </tr>\n",
       "    <tr>\n",
       "      <th>...</th>\n",
       "      <td>...</td>\n",
       "      <td>...</td>\n",
       "      <td>...</td>\n",
       "    </tr>\n",
       "    <tr>\n",
       "      <th>516</th>\n",
       "      <td>24.0</td>\n",
       "      <td>1</td>\n",
       "      <td>21796</td>\n",
       "    </tr>\n",
       "    <tr>\n",
       "      <th>517</th>\n",
       "      <td>12.5</td>\n",
       "      <td>0</td>\n",
       "      <td>21808</td>\n",
       "    </tr>\n",
       "    <tr>\n",
       "      <th>518</th>\n",
       "      <td>54.5</td>\n",
       "      <td>1</td>\n",
       "      <td>21814</td>\n",
       "    </tr>\n",
       "    <tr>\n",
       "      <th>519</th>\n",
       "      <td>6.0</td>\n",
       "      <td>1</td>\n",
       "      <td>21816</td>\n",
       "    </tr>\n",
       "    <tr>\n",
       "      <th>520</th>\n",
       "      <td>6.0</td>\n",
       "      <td>1</td>\n",
       "      <td>21825</td>\n",
       "    </tr>\n",
       "  </tbody>\n",
       "</table>\n",
       "<p>521 rows × 3 columns</p>\n",
       "</div>"
      ],
      "text/plain": [
       "     post_ach  voucher   s_id\n",
       "0        83.0        0     42\n",
       "1         4.0        0    194\n",
       "2         3.5        1    218\n",
       "3        26.5        1    261\n",
       "4         2.0        1    304\n",
       "..        ...      ...    ...\n",
       "516      24.0        1  21796\n",
       "517      12.5        0  21808\n",
       "518      54.5        1  21814\n",
       "519       6.0        1  21816\n",
       "520       6.0        1  21825\n",
       "\n",
       "[521 rows x 3 columns]"
      ]
     },
     "execution_count": 15,
     "metadata": {},
     "output_type": "execute_result"
    }
   ],
   "source": [
    "df"
   ]
  },
  {
   "cell_type": "code",
   "execution_count": 2,
   "id": "0691d6cb",
   "metadata": {},
   "outputs": [
    {
     "ename": "NameError",
     "evalue": "name 'sm' is not defined",
     "output_type": "error",
     "traceback": [
      "\u001b[0;31m---------------------------------------------------------------------------\u001b[0m",
      "\u001b[0;31mNameError\u001b[0m                                 Traceback (most recent call last)",
      "Cell \u001b[0;32mIn [2], line 1\u001b[0m\n\u001b[0;32m----> 1\u001b[0m OLS \u001b[38;5;241m=\u001b[39m \u001b[43msm\u001b[49m\u001b[38;5;241m.\u001b[39mOLS(y,sm\u001b[38;5;241m.\u001b[39madd_constant(np\u001b[38;5;241m.\u001b[39mc_[d,x]), prepend\u001b[38;5;241m=\u001b[39m\u001b[38;5;28;01mFalse\u001b[39;00m)\u001b[38;5;241m.\u001b[39mfit()\n",
      "\u001b[0;31mNameError\u001b[0m: name 'sm' is not defined"
     ]
    }
   ],
   "source": [
    "OLS = sm.OLS(y,sm.add_constant(np.c_[d,x]), prepend=False).fit()"
   ]
  },
  {
   "cell_type": "code",
   "execution_count": 17,
   "id": "0db6b608",
   "metadata": {},
   "outputs": [],
   "source": [
    "data = DoubleMLData(df.sample(int(df.shape[0]*0.8)),\n",
    "                  y_col='post_ach',\n",
    "                  d_cols='voucher',\n",
    "                  x_cols=rest)\n",
    "SML = DoubleMLPLR(data, l,m,g, n_folds=1,apply_cross_fitting=False,score=score)\n",
    "SML.fit();"
   ]
  },
  {
   "cell_type": "code",
   "execution_count": 19,
   "id": "4c886179",
   "metadata": {},
   "outputs": [],
   "source": [
    "data = DoubleMLData(df.sample(int(df.shape[0]*0.8)),\n",
    "                  y_col='post_ach',\n",
    "                  d_cols='voucher',\n",
    "                  x_cols=rest)\n",
    "\n",
    "OML = DoubleMLPLR(data, l,m,g, n_folds=1,apply_cross_fitting=False,score='IV-type')\n",
    "OML.fit();"
   ]
  },
  {
   "cell_type": "code",
   "execution_count": 20,
   "id": "2b5dc3b3",
   "metadata": {},
   "outputs": [],
   "source": [
    "data = DoubleMLData(df.sample(int(df.shape[0]*1)),\n",
    "                  y_col='post_ach',\n",
    "                  d_cols='voucher',\n",
    "                  x_cols=rest)\n",
    "DML = DoubleMLPLR(data, l,m,g, n_folds=5,apply_cross_fitting=True,score='IV-type')\n",
    "DML.fit();"
   ]
  },
  {
   "cell_type": "code",
   "execution_count": 21,
   "id": "5b13036a",
   "metadata": {},
   "outputs": [
    {
     "name": "stdout",
     "output_type": "stream",
     "text": [
      "+----------------------------------+-------+-----------+-------+-------+-------+--------+\n",
      "|            Estimator             | θ_hat | Std Error |   t   |   p   |  2.5% | 97.25% |\n",
      "+----------------------------------+-------+-----------+-------+-------+-------+--------+\n",
      "|               OLS                | 4.934 |   1.688   | 2.923 | 0.004 |  nan  |  nan   |\n",
      "|      Naive/Single ML (SML)       | 4.920 |   1.172   | 4.199 | 0.000 | 2.623 | 7.216  |\n",
      "|       Orthogonal ML (OML)        | 7.575 |   1.738   | 4.359 | 0.000 | 4.169 | 10.982 |\n",
      "| Orthogonal+Crossfitting ML (DML) | 5.461 |   1.747   | 3.127 | 0.002 | 2.038 | 8.884  |\n",
      "+----------------------------------+-------+-----------+-------+-------+-------+--------+\n"
     ]
    }
   ],
   "source": [
    "table = PrettyTable()\n",
    "table.field_names = ['Estimator', 'θ_hat', 'Std Error','t','p','2.5%','97.25%']\n",
    "a = ['OLS']+ np.c_[OLS.params[1], OLS.bse[1], OLS.tvalues[1], OLS.pvalues[1], np.nan, np.nan].reshape(-1).tolist()\n",
    "table.add_row(a)\n",
    "a = ['Naive/Single ML (SML)']+ np.array(SML.summary).reshape(-1).tolist()\n",
    "table.add_row(a)\n",
    "a = ['Orthogonal ML (OML)']+ np.array(OML.summary).reshape(-1).tolist()\n",
    "table.add_row(a)\n",
    "a = ['Orthogonal+Crossfitting ML (DML)']+ np.array(DML.summary).reshape(-1).tolist()\n",
    "table.add_row(a)\n",
    "table.float_format = '0.3'\n",
    "print(table)"
   ]
  },
  {
   "cell_type": "code",
   "execution_count": null,
   "id": "be9217c6",
   "metadata": {},
   "outputs": [],
   "source": []
  }
 ],
 "metadata": {
  "kernelspec": {
   "display_name": "Python 3 (ipykernel)",
   "language": "python",
   "name": "python3"
  },
  "language_info": {
   "codemirror_mode": {
    "name": "ipython",
    "version": 3
   },
   "file_extension": ".py",
   "mimetype": "text/x-python",
   "name": "python",
   "nbconvert_exporter": "python",
   "pygments_lexer": "ipython3",
   "version": "3.10.8"
  }
 },
 "nbformat": 4,
 "nbformat_minor": 5
}
