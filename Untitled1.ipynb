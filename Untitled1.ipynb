{
 "cells": [
  {
   "cell_type": "code",
   "execution_count": 1,
   "id": "33201c6f",
   "metadata": {},
   "outputs": [],
   "source": [
    "import numpy as np\n",
    "n_rep = 30\n",
    "n_obs = 100\n",
    "n = int(n_obs*0.9)\n",
    "n_vars = 5\n",
    "alpha = 0.5\n",
    "data = list()\n",
    "from sklearn.datasets import make_spd_matrix\n",
    "\n",
    "def g(x):\n",
    "    return np.power(x,2)\n",
    "\n",
    "def m(x):\n",
    "    return np.power(x,2)\n",
    "\n",
    "theta = alpha = 0.5 \n",
    "b = [1/k for k in range(1,n_vars+1)] # x weights \n",
    "sigma = make_spd_matrix(n_vars, random_state=42)\n",
    "\n",
    "for i_rep in range(n_rep):\n",
    "    x = np.random.multivariate_normal(np.zeros(n_vars),sigma,size=[n_obs,])\n",
    "    G = g(np.dot(x,b))\n",
    "    M = m(np.dot(x,b))\n",
    "    d = M+np.random.standard_normal(size=[n_obs,])*0.5\n",
    "    y = np.dot(alpha,d)+G+np.random.standard_normal(size=[n_obs,])*0.5\n",
    "    data.append((x, y, d))"
   ]
  },
  {
   "cell_type": "code",
   "execution_count": null,
   "id": "ec128974",
   "metadata": {},
   "outputs": [],
   "source": []
  }
 ],
 "metadata": {
  "kernelspec": {
   "display_name": "Python 3 (ipykernel)",
   "language": "python",
   "name": "python3"
  },
  "language_info": {
   "codemirror_mode": {
    "name": "ipython",
    "version": 3
   },
   "file_extension": ".py",
   "mimetype": "text/x-python",
   "name": "python",
   "nbconvert_exporter": "python",
   "pygments_lexer": "ipython3",
   "version": "3.10.8"
  }
 },
 "nbformat": 4,
 "nbformat_minor": 5
}
