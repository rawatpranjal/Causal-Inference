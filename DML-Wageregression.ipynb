{
 "cells": [
  {
   "cell_type": "code",
   "execution_count": null,
   "id": "d8f1d3e8",
   "metadata": {},
   "outputs": [],
   "source": [
    "# Simple Regression - Yeilds biased estimates of ATE\n",
    "import statsmodels.api as sm\n",
    "mod = sm.OLS(y, np.c_[t])\n",
    "res = mod.fit()\n",
    "print(res.summary())"
   ]
  },
  {
   "cell_type": "code",
   "execution_count": null,
   "id": "49c5ceee",
   "metadata": {},
   "outputs": [],
   "source": [
    "# Multivariate regression - yeilds unbiased estimate of ATE \n",
    "import statsmodels.api as sm\n",
    "mod = sm.OLS(y, np.c_[t,x])\n",
    "res = mod.fit()\n",
    "print(res.summary())"
   ]
  }
 ],
 "metadata": {
  "kernelspec": {
   "display_name": "Python 3 (ipykernel)",
   "language": "python",
   "name": "python3"
  },
  "language_info": {
   "codemirror_mode": {
    "name": "ipython",
    "version": 3
   },
   "file_extension": ".py",
   "mimetype": "text/x-python",
   "name": "python",
   "nbconvert_exporter": "python",
   "pygments_lexer": "ipython3",
   "version": "3.10.8"
  }
 },
 "nbformat": 4,
 "nbformat_minor": 5
}
