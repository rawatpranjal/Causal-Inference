{
 "cells": [
  {
   "cell_type": "code",
   "execution_count": 11,
   "id": "1ddf1ed1",
   "metadata": {},
   "outputs": [],
   "source": [
    "import sklearn\n",
    "import econml\n",
    "import numpy as np\n",
    "import scipy as sp"
   ]
  },
  {
   "cell_type": "code",
   "execution_count": 65,
   "id": "e34695ad",
   "metadata": {},
   "outputs": [],
   "source": [
    "# Example 1\n",
    "import numpy as np\n",
    "\n",
    "# Hyperparameters\n",
    "N = 50000\n",
    "σ_t = 1\n",
    "σ_y = 1\n",
    "σ_x = 1\n",
    "θ = 0.5\n",
    "α_t = 0.5\n",
    "α_y = 0.5\n",
    "\n",
    "x = np.random.normal(0,σ_x,N)\n",
    "e_t = np.random.normal(0,σ_t,N)\n",
    "e_y = np.random.normal(0,σ_y,N)\n",
    "t = np.exp(α_t * x) + e_t\n",
    "y = np.exp(α_y * x) + θ * t + e_y\n",
    "\n",
    "x = x.reshape(-1, 1)\n",
    "y = y.reshape(-1, 1)\n",
    "t = t.reshape(-1, 1)"
   ]
  },
  {
   "cell_type": "code",
   "execution_count": 66,
   "id": "ff1a14f2",
   "metadata": {
    "scrolled": true
   },
   "outputs": [
    {
     "name": "stdout",
     "output_type": "stream",
     "text": [
      "                                 OLS Regression Results                                \n",
      "=======================================================================================\n",
      "Dep. Variable:                      y   R-squared (uncentered):                   0.671\n",
      "Model:                            OLS   Adj. R-squared (uncentered):              0.671\n",
      "Method:                 Least Squares   F-statistic:                          1.020e+05\n",
      "Date:                Sat, 03 Dec 2022   Prob (F-statistic):                        0.00\n",
      "Time:                        16:49:26   Log-Likelihood:                         -83233.\n",
      "No. Observations:               50000   AIC:                                  1.665e+05\n",
      "Df Residuals:                   49999   BIC:                                  1.665e+05\n",
      "Df Model:                           1                                                  \n",
      "Covariance Type:            nonrobust                                                  \n",
      "==============================================================================\n",
      "                 coef    std err          t      P>|t|      [0.025      0.975]\n",
      "------------------------------------------------------------------------------\n",
      "x1             1.1256      0.004    319.297      0.000       1.119       1.133\n",
      "==============================================================================\n",
      "Omnibus:                        2.079   Durbin-Watson:                   1.768\n",
      "Prob(Omnibus):                  0.354   Jarque-Bera (JB):                2.070\n",
      "Skew:                           0.015   Prob(JB):                        0.355\n",
      "Kurtosis:                       3.006   Cond. No.                         1.00\n",
      "==============================================================================\n",
      "\n",
      "Notes:\n",
      "[1] R² is computed without centering (uncentered) since the model does not contain a constant.\n",
      "[2] Standard Errors assume that the covariance matrix of the errors is correctly specified.\n"
     ]
    }
   ],
   "source": [
    "# Simple Regression - Yeilds biased estimates of ATE\n",
    "import statsmodels.api as sm\n",
    "mod = sm.OLS(y, np.c_[t])\n",
    "res = mod.fit()\n",
    "print(res.summary())"
   ]
  },
  {
   "cell_type": "code",
   "execution_count": 67,
   "id": "84d28b47",
   "metadata": {
    "scrolled": true
   },
   "outputs": [
    {
     "name": "stdout",
     "output_type": "stream",
     "text": [
      "                                 OLS Regression Results                                \n",
      "=======================================================================================\n",
      "Dep. Variable:                      y   R-squared (uncentered):                   0.681\n",
      "Model:                            OLS   Adj. R-squared (uncentered):              0.681\n",
      "Method:                 Least Squares   F-statistic:                          5.346e+04\n",
      "Date:                Sat, 03 Dec 2022   Prob (F-statistic):                        0.00\n",
      "Time:                        16:49:26   Log-Likelihood:                         -82429.\n",
      "No. Observations:               50000   AIC:                                  1.649e+05\n",
      "Df Residuals:                   49998   BIC:                                  1.649e+05\n",
      "Df Model:                           2                                                  \n",
      "Covariance Type:            nonrobust                                                  \n",
      "==============================================================================\n",
      "                 coef    std err          t      P>|t|      [0.025      0.975]\n",
      "------------------------------------------------------------------------------\n",
      "x1             1.0739      0.004    290.369      0.000       1.067       1.081\n",
      "x2             0.2423      0.006     40.405      0.000       0.231       0.254\n",
      "==============================================================================\n",
      "Omnibus:                        0.490   Durbin-Watson:                   1.692\n",
      "Prob(Omnibus):                  0.783   Jarque-Bera (JB):                0.494\n",
      "Skew:                           0.008   Prob(JB):                        0.781\n",
      "Kurtosis:                       2.997   Cond. No.                         1.84\n",
      "==============================================================================\n",
      "\n",
      "Notes:\n",
      "[1] R² is computed without centering (uncentered) since the model does not contain a constant.\n",
      "[2] Standard Errors assume that the covariance matrix of the errors is correctly specified.\n"
     ]
    }
   ],
   "source": [
    "# Multivariate regression - gives unbiased estimates of ATE\n",
    "import statsmodels.api as sm\n",
    "mod = sm.OLS(y, np.c_[t,x])\n",
    "res = mod.fit()\n",
    "print(res.summary())"
   ]
  },
  {
   "cell_type": "code",
   "execution_count": 68,
   "id": "54ee8550",
   "metadata": {},
   "outputs": [
    {
     "name": "stdout",
     "output_type": "stream",
     "text": [
      "Coefficient Results:  X is None, please call intercept_inference to learn the constant!\n"
     ]
    },
    {
     "data": {
      "text/html": [
       "<table class=\"simpletable\">\n",
       "<caption>CATE Intercept Results</caption>\n",
       "<tr>\n",
       "         <td></td>        <th>point_estimate</th> <th>stderr</th>  <th>zstat</th>  <th>pvalue</th> <th>ci_lower</th> <th>ci_upper</th>\n",
       "</tr>\n",
       "<tr>\n",
       "  <th>cate_intercept</th>      <td>0.535</td>      <td>0.005</td> <td>117.795</td>   <td>0.0</td>    <td>0.526</td>    <td>0.544</td> \n",
       "</tr>\n",
       "</table><br/><br/><sub>A linear parametric conditional average treatment effect (CATE) model was fitted:<br/>$Y = \\Theta(X)\\cdot T + g(X, W) + \\epsilon$<br/>where for every outcome $i$ and treatment $j$ the CATE $\\Theta_{ij}(X)$ has the form:<br/>$\\Theta_{ij}(X) = X' coef_{ij} + cate\\_intercept_{ij}$<br/>Coefficient Results table portrays the $coef_{ij}$ parameter vector for each outcome $i$ and treatment $j$. Intercept Results table portrays the $cate\\_intercept_{ij}$ parameter.</sub>"
      ],
      "text/plain": [
       "<class 'econml.utilities.Summary'>\n",
       "\"\"\"\n",
       "                        CATE Intercept Results                       \n",
       "=====================================================================\n",
       "               point_estimate stderr  zstat  pvalue ci_lower ci_upper\n",
       "---------------------------------------------------------------------\n",
       "cate_intercept          0.535  0.005 117.795    0.0    0.526    0.544\n",
       "---------------------------------------------------------------------\n",
       "\n",
       "<sub>A linear parametric conditional average treatment effect (CATE) model was fitted:\n",
       "$Y = \\Theta(X)\\cdot T + g(X, W) + \\epsilon$\n",
       "where for every outcome $i$ and treatment $j$ the CATE $\\Theta_{ij}(X)$ has the form:\n",
       "$\\Theta_{ij}(X) = X' coef_{ij} + cate\\_intercept_{ij}$\n",
       "Coefficient Results table portrays the $coef_{ij}$ parameter vector for each outcome $i$ and treatment $j$. Intercept Results table portrays the $cate\\_intercept_{ij}$ parameter.</sub>\n",
       "\"\"\""
      ]
     },
     "execution_count": 68,
     "metadata": {},
     "output_type": "execute_result"
    }
   ],
   "source": [
    "# DML regression - still yeilds unbiased estimate of ATE \n",
    "from econml.dml import LinearDML\n",
    "est = LinearDML(random_state=1)\n",
    "est.fit(y, t, X=None,W=x)\n",
    "est.summary()"
   ]
  },
  {
   "cell_type": "code",
   "execution_count": null,
   "id": "33cd5f76",
   "metadata": {},
   "outputs": [],
   "source": []
  },
  {
   "cell_type": "code",
   "execution_count": null,
   "id": "ea8e1ba5",
   "metadata": {},
   "outputs": [],
   "source": []
  }
 ],
 "metadata": {
  "kernelspec": {
   "display_name": "Python 3 (ipykernel)",
   "language": "python",
   "name": "python3"
  },
  "language_info": {
   "codemirror_mode": {
    "name": "ipython",
    "version": 3
   },
   "file_extension": ".py",
   "mimetype": "text/x-python",
   "name": "python",
   "nbconvert_exporter": "python",
   "pygments_lexer": "ipython3",
   "version": "3.10.8"
  }
 },
 "nbformat": 4,
 "nbformat_minor": 5
}
