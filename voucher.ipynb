{
 "cells": [
  {
   "cell_type": "markdown",
   "id": "bc8bc1d0",
   "metadata": {},
   "source": [
    "# Packages"
   ]
  },
  {
   "cell_type": "code",
   "execution_count": 2,
   "id": "cbc5a055",
   "metadata": {},
   "outputs": [],
   "source": [
    "import numpy as np\n",
    "import pandas as pd\n",
    "from doubleml.datasets import fetch_bonus\n",
    "from doubleml import DoubleMLData\n",
    "import statsmodels.api as sm\n",
    "from sklearn.base import clone\n",
    "from sklearn.ensemble import RandomForestRegressor, RandomForestClassifier\n",
    "from sklearn.linear_model import LassoCV\n",
    "from doubleml import DoubleMLPLR\n",
    "from doubleml import DoubleMLPLR\n",
    "from prettytable import PrettyTable\n",
    "from PIL import Image, ImageDraw, ImageFont\n",
    "from sklearn.linear_model import LinearRegression, LogisticRegression, LassoCV, LogisticRegressionCV\n",
    "from sklearn.neural_network import MLPRegressor, MLPClassifier\n",
    "from catboost import CatBoostRegressor, CatBoostClassifier\n",
    "from xgboost import XGBRegressor, XGBClassifier\n",
    "from sklearn.preprocessing import normalize\n",
    "from sklearn.model_selection import cross_val_score\n",
    "import warnings\n",
    "warnings.filterwarnings('ignore')\n",
    "np.random.seed(3293423)"
   ]
  },
  {
   "cell_type": "markdown",
   "id": "3e3ea0e8",
   "metadata": {},
   "source": [
    "# Load the Data"
   ]
  },
  {
   "cell_type": "code",
   "execution_count": 3,
   "id": "ba0dcabc",
   "metadata": {},
   "outputs": [
    {
     "data": {
      "text/html": [
       "<div>\n",
       "<style scoped>\n",
       "    .dataframe tbody tr th:only-of-type {\n",
       "        vertical-align: middle;\n",
       "    }\n",
       "\n",
       "    .dataframe tbody tr th {\n",
       "        vertical-align: top;\n",
       "    }\n",
       "\n",
       "    .dataframe thead th {\n",
       "        text-align: right;\n",
       "    }\n",
       "</style>\n",
       "<table border=\"1\" class=\"dataframe\">\n",
       "  <thead>\n",
       "    <tr style=\"text-align: right;\">\n",
       "      <th></th>\n",
       "      <th>s_id</th>\n",
       "      <th>voucher</th>\n",
       "      <th>pre_ach</th>\n",
       "      <th>post_ach</th>\n",
       "    </tr>\n",
       "  </thead>\n",
       "  <tbody>\n",
       "    <tr>\n",
       "      <th>0</th>\n",
       "      <td>42</td>\n",
       "      <td>0</td>\n",
       "      <td>74.0</td>\n",
       "      <td>83.0</td>\n",
       "    </tr>\n",
       "    <tr>\n",
       "      <th>1</th>\n",
       "      <td>194</td>\n",
       "      <td>0</td>\n",
       "      <td>7.5</td>\n",
       "      <td>4.0</td>\n",
       "    </tr>\n",
       "    <tr>\n",
       "      <th>2</th>\n",
       "      <td>218</td>\n",
       "      <td>1</td>\n",
       "      <td>2.5</td>\n",
       "      <td>3.5</td>\n",
       "    </tr>\n",
       "    <tr>\n",
       "      <th>3</th>\n",
       "      <td>261</td>\n",
       "      <td>1</td>\n",
       "      <td>0.0</td>\n",
       "      <td>26.5</td>\n",
       "    </tr>\n",
       "    <tr>\n",
       "      <th>4</th>\n",
       "      <td>304</td>\n",
       "      <td>1</td>\n",
       "      <td>11.0</td>\n",
       "      <td>2.0</td>\n",
       "    </tr>\n",
       "  </tbody>\n",
       "</table>\n",
       "</div>"
      ],
      "text/plain": [
       "   s_id  voucher  pre_ach  post_ach\n",
       "0    42        0     74.0      83.0\n",
       "1   194        0      7.5       4.0\n",
       "2   218        1      2.5       3.5\n",
       "3   261        1      0.0      26.5\n",
       "4   304        1     11.0       2.0"
      ]
     },
     "execution_count": 3,
     "metadata": {},
     "output_type": "execute_result"
    }
   ],
   "source": [
    "import pandas as pd\n",
    "import numpy as np\n",
    "df = pd.read_csv('/Users/pranjal/Desktop/Causal-Inference/data/nyvoucher.csv')\n",
    "df.head()"
   ]
  },
  {
   "cell_type": "code",
   "execution_count": 4,
   "id": "dcefa355",
   "metadata": {
    "scrolled": true
   },
   "outputs": [
    {
     "name": "stdout",
     "output_type": "stream",
     "text": [
      "s_id        0\n",
      "voucher     0\n",
      "pre_ach     0\n",
      "post_ach    0\n",
      "dtype: int64\n"
     ]
    }
   ],
   "source": [
    "print(df.isnull().sum())"
   ]
  },
  {
   "cell_type": "code",
   "execution_count": 7,
   "id": "fe1221d5",
   "metadata": {},
   "outputs": [
    {
     "name": "stdout",
     "output_type": "stream",
     "text": [
      "(521, 1) (521, 1) (521, 1)\n"
     ]
    }
   ],
   "source": [
    "outcome = 'post_ach'\n",
    "treatment = 'voucher'\n",
    "rest = list(df.drop([outcome, treatment], axis = 1).columns)\n",
    "df = df[[outcome] + [treatment] + rest]\n",
    "y = np.array(df.post_ach).reshape(-1, 1)\n",
    "d = np.array(df.voucher).astype(int).reshape(-1, 1)\n",
    "x = np.array(df[rest])\n",
    "print(y.shape, d.shape, x.shape)"
   ]
  },
  {
   "cell_type": "markdown",
   "id": "b8448830",
   "metadata": {},
   "source": [
    "# First Stage"
   ]
  },
  {
   "cell_type": "code",
   "execution_count": 11,
   "id": "e42a800c",
   "metadata": {},
   "outputs": [
    {
     "name": "stdout",
     "output_type": "stream",
     "text": [
      "+-----------------------+---------------+---------------+\n",
      "|       Estimator       | g(X):Rsquared | m(X):Accuracy |\n",
      "+-----------------------+---------------+---------------+\n",
      "|    Linear/Logistic    |     -0.039    |     0.559     |\n",
      "| Linear/Logistic (Reg) |     -0.035    |     0.559     |\n",
      "|     Random Forests    |     -0.203    |     0.449     |\n",
      "|        Boosting       |     -0.680    |     0.443     |\n",
      "|    Neural Networks    |     -0.016    |     0.559     |\n",
      "+-----------------------+---------------+---------------+\n"
     ]
    }
   ],
   "source": [
    "np.random.seed(42)\n",
    "table = PrettyTable()\n",
    "table.field_names = ['Estimator', 'g(X):Rsquared', 'm(X):Accuracy']\n",
    "a = ['Linear/Logistic',np.mean(cross_val_score(LinearRegression(), x, y, cv=5)),np.mean(cross_val_score(LogisticRegression(), x, d, cv=5))]\n",
    "table.add_row(a)\n",
    "a = ['Linear/Logistic (Reg)',np.mean(cross_val_score(LassoCV(), x, y, cv=5)),np.mean(cross_val_score(LogisticRegressionCV(), x, d, cv=5))]\n",
    "table.add_row(a)\n",
    "a = ['Random Forests',np.mean(cross_val_score(RandomForestRegressor(max_depth=5,n_estimators=500,verbose=0), x, y, cv=5)),np.mean(cross_val_score(RandomForestClassifier(max_depth=5, n_estimators=500), x, d, cv=5))]\n",
    "table.add_row(a)\n",
    "a = ['Boosting',np.mean(cross_val_score(XGBRegressor(max_depth=3,verbosity=0), x, y, cv=5)),np.mean(cross_val_score(XGBClassifier(verbosity=0,max_depth=5), x, d, cv=5))]\n",
    "table.add_row(a)\n",
    "a = ['Neural Networks',np.mean(cross_val_score(MLPRegressor((20,10,), activation = 'tanh', max_iter=500, learning_rate_init=0.01), normalize(x), y, cv=5)),np.mean(cross_val_score(MLPClassifier((20,10,), activation = 'tanh', max_iter=500,learning_rate_init=0.01), normalize(x), d, cv=5))]\n",
    "table.add_row(a)\n",
    "table.float_format = '0.3'\n",
    "print(table)"
   ]
  },
  {
   "cell_type": "markdown",
   "id": "74745986",
   "metadata": {},
   "source": [
    "# OLS"
   ]
  },
  {
   "cell_type": "code",
   "execution_count": 12,
   "id": "0691d6cb",
   "metadata": {},
   "outputs": [
    {
     "data": {
      "text/html": [
       "<table class=\"simpletable\">\n",
       "<caption>OLS Regression Results</caption>\n",
       "<tr>\n",
       "  <th>Dep. Variable:</th>            <td>y</td>        <th>  R-squared:         </th> <td>   0.016</td>\n",
       "</tr>\n",
       "<tr>\n",
       "  <th>Model:</th>                   <td>OLS</td>       <th>  Adj. R-squared:    </th> <td>   0.012</td>\n",
       "</tr>\n",
       "<tr>\n",
       "  <th>Method:</th>             <td>Least Squares</td>  <th>  F-statistic:       </th> <td>   4.278</td>\n",
       "</tr>\n",
       "<tr>\n",
       "  <th>Date:</th>             <td>Thu, 15 Dec 2022</td> <th>  Prob (F-statistic):</th>  <td>0.0144</td> \n",
       "</tr>\n",
       "<tr>\n",
       "  <th>Time:</th>                 <td>10:16:03</td>     <th>  Log-Likelihood:    </th> <td> -2274.2</td>\n",
       "</tr>\n",
       "<tr>\n",
       "  <th>No. Observations:</th>      <td>   521</td>      <th>  AIC:               </th> <td>   4554.</td>\n",
       "</tr>\n",
       "<tr>\n",
       "  <th>Df Residuals:</th>          <td>   518</td>      <th>  BIC:               </th> <td>   4567.</td>\n",
       "</tr>\n",
       "<tr>\n",
       "  <th>Df Model:</th>              <td>     2</td>      <th>                     </th>     <td> </td>   \n",
       "</tr>\n",
       "<tr>\n",
       "  <th>Covariance Type:</th>      <td>nonrobust</td>    <th>                     </th>     <td> </td>   \n",
       "</tr>\n",
       "</table>\n",
       "<table class=\"simpletable\">\n",
       "<tr>\n",
       "    <td></td>       <th>coef</th>     <th>std err</th>      <th>t</th>      <th>P>|t|</th>  <th>[0.025</th>    <th>0.975]</th>  \n",
       "</tr>\n",
       "<tr>\n",
       "  <th>const</th> <td>   21.5205</td> <td>    1.780</td> <td>   12.091</td> <td> 0.000</td> <td>   18.024</td> <td>   25.017</td>\n",
       "</tr>\n",
       "<tr>\n",
       "  <th>x1</th>    <td>    4.9337</td> <td>    1.688</td> <td>    2.923</td> <td> 0.004</td> <td>    1.618</td> <td>    8.250</td>\n",
       "</tr>\n",
       "<tr>\n",
       "  <th>x2</th>    <td>-3.925e-05</td> <td>    0.000</td> <td>   -0.310</td> <td> 0.757</td> <td>   -0.000</td> <td>    0.000</td>\n",
       "</tr>\n",
       "</table>\n",
       "<table class=\"simpletable\">\n",
       "<tr>\n",
       "  <th>Omnibus:</th>       <td>72.843</td> <th>  Durbin-Watson:     </th> <td>   1.981</td>\n",
       "</tr>\n",
       "<tr>\n",
       "  <th>Prob(Omnibus):</th> <td> 0.000</td> <th>  Jarque-Bera (JB):  </th> <td> 100.341</td>\n",
       "</tr>\n",
       "<tr>\n",
       "  <th>Skew:</th>          <td> 1.038</td> <th>  Prob(JB):          </th> <td>1.63e-22</td>\n",
       "</tr>\n",
       "<tr>\n",
       "  <th>Kurtosis:</th>      <td> 3.562</td> <th>  Cond. No.          </th> <td>3.12e+04</td>\n",
       "</tr>\n",
       "</table><br/><br/>Notes:<br/>[1] Standard Errors assume that the covariance matrix of the errors is correctly specified.<br/>[2] The condition number is large, 3.12e+04. This might indicate that there are<br/>strong multicollinearity or other numerical problems."
      ],
      "text/plain": [
       "<class 'statsmodels.iolib.summary.Summary'>\n",
       "\"\"\"\n",
       "                            OLS Regression Results                            \n",
       "==============================================================================\n",
       "Dep. Variable:                      y   R-squared:                       0.016\n",
       "Model:                            OLS   Adj. R-squared:                  0.012\n",
       "Method:                 Least Squares   F-statistic:                     4.278\n",
       "Date:                Thu, 15 Dec 2022   Prob (F-statistic):             0.0144\n",
       "Time:                        10:16:03   Log-Likelihood:                -2274.2\n",
       "No. Observations:                 521   AIC:                             4554.\n",
       "Df Residuals:                     518   BIC:                             4567.\n",
       "Df Model:                           2                                         \n",
       "Covariance Type:            nonrobust                                         \n",
       "==============================================================================\n",
       "                 coef    std err          t      P>|t|      [0.025      0.975]\n",
       "------------------------------------------------------------------------------\n",
       "const         21.5205      1.780     12.091      0.000      18.024      25.017\n",
       "x1             4.9337      1.688      2.923      0.004       1.618       8.250\n",
       "x2         -3.925e-05      0.000     -0.310      0.757      -0.000       0.000\n",
       "==============================================================================\n",
       "Omnibus:                       72.843   Durbin-Watson:                   1.981\n",
       "Prob(Omnibus):                  0.000   Jarque-Bera (JB):              100.341\n",
       "Skew:                           1.038   Prob(JB):                     1.63e-22\n",
       "Kurtosis:                       3.562   Cond. No.                     3.12e+04\n",
       "==============================================================================\n",
       "\n",
       "Notes:\n",
       "[1] Standard Errors assume that the covariance matrix of the errors is correctly specified.\n",
       "[2] The condition number is large, 3.12e+04. This might indicate that there are\n",
       "strong multicollinearity or other numerical problems.\n",
       "\"\"\""
      ]
     },
     "execution_count": 12,
     "metadata": {},
     "output_type": "execute_result"
    }
   ],
   "source": [
    "OLS = sm.OLS(y,sm.add_constant(np.c_[d,x])).fit()\n",
    "OLS.summary()"
   ]
  },
  {
   "cell_type": "markdown",
   "id": "ae0712ed",
   "metadata": {},
   "source": [
    "# ML Estimation"
   ]
  },
  {
   "cell_type": "code",
   "execution_count": 20,
   "id": "25c4d154",
   "metadata": {},
   "outputs": [],
   "source": [
    "l = LassoCV() # Model for E[Y|X]=E[θD+g(X)]\n",
    "g = LassoCV() # Model for E[Y - θD|X]=g(X)\n",
    "m = LogisticRegressionCV() # Model for E[D|X]\n",
    "\n",
    "def score(y, d, l_hat, m_hat, g_hat, smpls):\n",
    "    \"Score function for Single ML\"\n",
    "    u_hat = y - g_hat\n",
    "    psi_a = -np.multiply(d, d)\n",
    "    psi_b = np.multiply(d, u_hat)\n",
    "    return psi_a, psi_b"
   ]
  },
  {
   "cell_type": "markdown",
   "id": "e8d63a3a",
   "metadata": {},
   "source": [
    "# Single-ML"
   ]
  },
  {
   "cell_type": "code",
   "execution_count": 21,
   "id": "0db6b608",
   "metadata": {},
   "outputs": [
    {
     "name": "stdout",
     "output_type": "stream",
     "text": [
      "             coef   std err         t     P>|t|     2.5 %    97.5 %\n",
      "voucher  4.917762  1.156009  4.254087  0.000021  2.652026  7.183498\n"
     ]
    }
   ],
   "source": [
    "data = DoubleMLData(df, y_col=outcome,d_cols=treatment,x_cols=rest)\n",
    "SML = DoubleMLPLR(data, l, m, g, n_folds=1, apply_cross_fitting=False, score=score)\n",
    "SML.fit()\n",
    "print(SML.summary)"
   ]
  },
  {
   "cell_type": "markdown",
   "id": "570313ff",
   "metadata": {},
   "source": [
    "# Orthogonal-ML"
   ]
  },
  {
   "cell_type": "code",
   "execution_count": 22,
   "id": "4c886179",
   "metadata": {},
   "outputs": [
    {
     "name": "stdout",
     "output_type": "stream",
     "text": [
      "             coef   std err         t     P>|t|     2.5 %    97.5 %\n",
      "voucher  4.934872  1.660423  2.972057  0.002958  1.680503  8.189241\n"
     ]
    }
   ],
   "source": [
    "data = DoubleMLData(df,y_col=outcome,d_cols=treatment,x_cols=rest)\n",
    "OML = DoubleMLPLR(data,l, m, g, n_folds=1,apply_cross_fitting=False,score='IV-type')\n",
    "OML.fit();\n",
    "print(OML.summary)"
   ]
  },
  {
   "cell_type": "markdown",
   "id": "79977e89",
   "metadata": {},
   "source": [
    "# Orthogonal + Crossfitting (DML)"
   ]
  },
  {
   "cell_type": "code",
   "execution_count": 23,
   "id": "2b5dc3b3",
   "metadata": {},
   "outputs": [
    {
     "name": "stdout",
     "output_type": "stream",
     "text": [
      "             coef   std err         t     P>|t|     2.5 %    97.5 %\n",
      "voucher  5.056453  1.666632  3.033935  0.002414  1.789915  8.322991\n"
     ]
    }
   ],
   "source": [
    "data = DoubleMLData(df,y_col=outcome,d_cols=treatment,x_cols=rest)\n",
    "DML = DoubleMLPLR(data, l,m,g, n_folds=5,apply_cross_fitting=True,score='IV-type')\n",
    "DML.fit();\n",
    "print(DML.summary)"
   ]
  },
  {
   "cell_type": "markdown",
   "id": "d441e6e9",
   "metadata": {},
   "source": [
    "# Summary"
   ]
  },
  {
   "cell_type": "code",
   "execution_count": 24,
   "id": "5b13036a",
   "metadata": {},
   "outputs": [
    {
     "name": "stdout",
     "output_type": "stream",
     "text": [
      "+---------------------+-------+-----------+-------+-------+-------+--------+\n",
      "|      Estimator      | θ_hat | Std Error |   t   |   p   |  2.5% | 97.25% |\n",
      "+---------------------+-------+-----------+-------+-------+-------+--------+\n",
      "|         OLS         | 4.934 |   1.688   | 2.923 | 0.004 |  nan  |  nan   |\n",
      "|   Single ML (SML)   | 4.918 |   1.156   | 4.254 | 0.000 | 2.652 | 7.183  |\n",
      "| Orthogonal ML (OML) | 4.935 |   1.660   | 2.972 | 0.003 | 1.681 | 8.189  |\n",
      "|   Double ML (DML)   | 5.056 |   1.667   | 3.034 | 0.002 | 1.790 | 8.323  |\n",
      "+---------------------+-------+-----------+-------+-------+-------+--------+\n"
     ]
    }
   ],
   "source": [
    "table = PrettyTable()\n",
    "table.field_names = ['Estimator', 'θ_hat', 'Std Error','t','p','2.5%','97.25%']\n",
    "idx = 1\n",
    "a = ['OLS']+ np.c_[OLS.params[idx], OLS.bse[idx], OLS.tvalues[idx], OLS.pvalues[idx], np.nan, np.nan].reshape(-1).tolist()\n",
    "table.add_row(a)\n",
    "a = ['Single ML (SML)']+ np.array(SML.summary).reshape(-1).tolist()\n",
    "table.add_row(a)\n",
    "a = ['Orthogonal ML (OML)']+ np.array(OML.summary).reshape(-1).tolist()\n",
    "table.add_row(a)\n",
    "a = ['Double ML (DML)']+ np.array(DML.summary).reshape(-1).tolist()\n",
    "table.add_row(a)\n",
    "table.float_format = '0.3'\n",
    "print(table)"
   ]
  },
  {
   "cell_type": "code",
   "execution_count": null,
   "id": "f3e96deb",
   "metadata": {},
   "outputs": [],
   "source": []
  }
 ],
 "metadata": {
  "kernelspec": {
   "display_name": "Python 3 (ipykernel)",
   "language": "python",
   "name": "python3"
  },
  "language_info": {
   "codemirror_mode": {
    "name": "ipython",
    "version": 3
   },
   "file_extension": ".py",
   "mimetype": "text/x-python",
   "name": "python",
   "nbconvert_exporter": "python",
   "pygments_lexer": "ipython3",
   "version": "3.10.8"
  }
 },
 "nbformat": 4,
 "nbformat_minor": 5
}
