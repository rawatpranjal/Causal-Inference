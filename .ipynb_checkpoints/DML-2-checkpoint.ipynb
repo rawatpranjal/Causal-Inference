{
 "cells": [
  {
   "cell_type": "code",
   "execution_count": 93,
   "id": "1ddf1ed1",
   "metadata": {},
   "outputs": [],
   "source": [
    "import sklearn\n",
    "import econml\n",
    "import numpy as np\n",
    "import scipy as sp"
   ]
  },
  {
   "cell_type": "code",
   "execution_count": 94,
   "id": "e34695ad",
   "metadata": {},
   "outputs": [],
   "source": [
    "# Example 1\n",
    "import numpy as np\n",
    "\n",
    "# Hyperparameters\n",
    "N = 100\n",
    "σ_t = 1\n",
    "σ_y = 1\n",
    "σ_x = 1\n",
    "θ = 0.5\n",
    "α_t = 0.5\n",
    "α_y = 0.5\n",
    "\n",
    "x = np.random.normal(0,σ_x,N)\n",
    "e_t = np.random.normal(0,σ_t,N)\n",
    "e_y = np.random.normal(0,σ_y,N)\n",
    "t = α_t * x + e_t\n",
    "y = α_y * x + θ * t + e_y\n",
    "\n",
    "x = x.reshape(-1, 1)\n",
    "y = y.reshape(-1, 1)\n",
    "t = t.reshape(-1, 1)"
   ]
  },
  {
   "cell_type": "code",
   "execution_count": 95,
   "id": "ff1a14f2",
   "metadata": {},
   "outputs": [
    {
     "name": "stdout",
     "output_type": "stream",
     "text": [
      "                                 OLS Regression Results                                \n",
      "=======================================================================================\n",
      "Dep. Variable:                      y   R-squared (uncentered):                   0.394\n",
      "Model:                            OLS   Adj. R-squared (uncentered):              0.388\n",
      "Method:                 Least Squares   F-statistic:                              64.43\n",
      "Date:                Sat, 03 Dec 2022   Prob (F-statistic):                    2.10e-12\n",
      "Time:                        16:41:13   Log-Likelihood:                         -144.23\n",
      "No. Observations:                 100   AIC:                                      290.5\n",
      "Df Residuals:                      99   BIC:                                      293.1\n",
      "Df Model:                           1                                                  \n",
      "Covariance Type:            nonrobust                                                  \n",
      "==============================================================================\n",
      "                 coef    std err          t      P>|t|      [0.025      0.975]\n",
      "------------------------------------------------------------------------------\n",
      "x1             0.7595      0.095      8.027      0.000       0.572       0.947\n",
      "==============================================================================\n",
      "Omnibus:                        1.678   Durbin-Watson:                   1.943\n",
      "Prob(Omnibus):                  0.432   Jarque-Bera (JB):                1.133\n",
      "Skew:                          -0.210   Prob(JB):                        0.568\n",
      "Kurtosis:                       3.309   Cond. No.                         1.00\n",
      "==============================================================================\n",
      "\n",
      "Notes:\n",
      "[1] R² is computed without centering (uncentered) since the model does not contain a constant.\n",
      "[2] Standard Errors assume that the covariance matrix of the errors is correctly specified.\n"
     ]
    }
   ],
   "source": [
    "# Simple Regression - Yeilds biased estimates of ATE\n",
    "import statsmodels.api as sm\n",
    "mod = sm.OLS(y, np.c_[t])\n",
    "res = mod.fit()\n",
    "print(res.summary())"
   ]
  },
  {
   "cell_type": "code",
   "execution_count": 96,
   "id": "84d28b47",
   "metadata": {},
   "outputs": [
    {
     "name": "stdout",
     "output_type": "stream",
     "text": [
      "                                 OLS Regression Results                                \n",
      "=======================================================================================\n",
      "Dep. Variable:                      y   R-squared (uncentered):                   0.459\n",
      "Model:                            OLS   Adj. R-squared (uncentered):              0.448\n",
      "Method:                 Least Squares   F-statistic:                              41.64\n",
      "Date:                Sat, 03 Dec 2022   Prob (F-statistic):                    8.14e-14\n",
      "Time:                        16:41:13   Log-Likelihood:                         -138.54\n",
      "No. Observations:                 100   AIC:                                      281.1\n",
      "Df Residuals:                      98   BIC:                                      286.3\n",
      "Df Model:                           2                                                  \n",
      "Covariance Type:            nonrobust                                                  \n",
      "==============================================================================\n",
      "                 coef    std err          t      P>|t|      [0.025      0.975]\n",
      "------------------------------------------------------------------------------\n",
      "x1             0.5232      0.113      4.625      0.000       0.299       0.748\n",
      "x2             0.3759      0.109      3.437      0.001       0.159       0.593\n",
      "==============================================================================\n",
      "Omnibus:                        3.575   Durbin-Watson:                   1.888\n",
      "Prob(Omnibus):                  0.167   Jarque-Bera (JB):                2.922\n",
      "Skew:                          -0.333   Prob(JB):                        0.232\n",
      "Kurtosis:                       3.508   Cond. No.                         2.03\n",
      "==============================================================================\n",
      "\n",
      "Notes:\n",
      "[1] R² is computed without centering (uncentered) since the model does not contain a constant.\n",
      "[2] Standard Errors assume that the covariance matrix of the errors is correctly specified.\n"
     ]
    }
   ],
   "source": [
    "# Multivariate regression - yeilds unbiased estimate of ATE \n",
    "import statsmodels.api as sm\n",
    "mod = sm.OLS(y, np.c_[t,x])\n",
    "res = mod.fit()\n",
    "print(res.summary())"
   ]
  },
  {
   "cell_type": "code",
   "execution_count": 97,
   "id": "54ee8550",
   "metadata": {},
   "outputs": [
    {
     "name": "stdout",
     "output_type": "stream",
     "text": [
      "Coefficient Results:  X is None, please call intercept_inference to learn the constant!\n"
     ]
    },
    {
     "data": {
      "text/html": [
       "<table class=\"simpletable\">\n",
       "<caption>CATE Intercept Results</caption>\n",
       "<tr>\n",
       "         <td></td>        <th>point_estimate</th> <th>stderr</th> <th>zstat</th> <th>pvalue</th> <th>ci_lower</th> <th>ci_upper</th>\n",
       "</tr>\n",
       "<tr>\n",
       "  <th>cate_intercept</th>      <td>0.622</td>      <td>0.122</td> <td>5.086</td>   <td>0.0</td>    <td>0.382</td>    <td>0.862</td> \n",
       "</tr>\n",
       "</table><br/><br/><sub>A linear parametric conditional average treatment effect (CATE) model was fitted:<br/>$Y = \\Theta(X)\\cdot T + g(X, W) + \\epsilon$<br/>where for every outcome $i$ and treatment $j$ the CATE $\\Theta_{ij}(X)$ has the form:<br/>$\\Theta_{ij}(X) = X' coef_{ij} + cate\\_intercept_{ij}$<br/>Coefficient Results table portrays the $coef_{ij}$ parameter vector for each outcome $i$ and treatment $j$. Intercept Results table portrays the $cate\\_intercept_{ij}$ parameter.</sub>"
      ],
      "text/plain": [
       "<class 'econml.utilities.Summary'>\n",
       "\"\"\"\n",
       "                       CATE Intercept Results                      \n",
       "===================================================================\n",
       "               point_estimate stderr zstat pvalue ci_lower ci_upper\n",
       "-------------------------------------------------------------------\n",
       "cate_intercept          0.622  0.122 5.086    0.0    0.382    0.862\n",
       "-------------------------------------------------------------------\n",
       "\n",
       "<sub>A linear parametric conditional average treatment effect (CATE) model was fitted:\n",
       "$Y = \\Theta(X)\\cdot T + g(X, W) + \\epsilon$\n",
       "where for every outcome $i$ and treatment $j$ the CATE $\\Theta_{ij}(X)$ has the form:\n",
       "$\\Theta_{ij}(X) = X' coef_{ij} + cate\\_intercept_{ij}$\n",
       "Coefficient Results table portrays the $coef_{ij}$ parameter vector for each outcome $i$ and treatment $j$. Intercept Results table portrays the $cate\\_intercept_{ij}$ parameter.</sub>\n",
       "\"\"\""
      ]
     },
     "execution_count": 97,
     "metadata": {},
     "output_type": "execute_result"
    }
   ],
   "source": [
    "# Multivariate regression - yeilds unbiased estimate of ATE \n",
    "from econml.dml import LinearDML\n",
    "est = LinearDML(random_state=1)\n",
    "est.fit(y, t, X=None,W=x)\n",
    "est.summary()"
   ]
  }
 ],
 "metadata": {
  "kernelspec": {
   "display_name": "Python 3 (ipykernel)",
   "language": "python",
   "name": "python3"
  },
  "language_info": {
   "codemirror_mode": {
    "name": "ipython",
    "version": 3
   },
   "file_extension": ".py",
   "mimetype": "text/x-python",
   "name": "python",
   "nbconvert_exporter": "python",
   "pygments_lexer": "ipython3",
   "version": "3.10.8"
  }
 },
 "nbformat": 4,
 "nbformat_minor": 5
}
