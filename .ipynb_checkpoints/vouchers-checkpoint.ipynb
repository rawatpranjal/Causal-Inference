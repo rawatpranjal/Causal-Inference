{
 "cells": [
  {
   "cell_type": "code",
   "execution_count": 2,
   "id": "cbc5a055",
   "metadata": {},
   "outputs": [],
   "source": [
    "import numpy as np\n",
    "from doubleml.datasets import fetch_bonus\n",
    "from doubleml import DoubleMLData\n",
    "import statsmodels.api as sm\n",
    "from sklearn.base import clone\n",
    "from sklearn.ensemble import RandomForestRegressor, RandomForestClassifier\n",
    "from sklearn.linear_model import LassoCV\n",
    "from doubleml import DoubleMLPLR\n",
    "from doubleml import DoubleMLPLR\n",
    "from prettytable import PrettyTable\n",
    "from PIL import Image, ImageDraw, ImageFont\n",
    "from sklearn.linear_model import LinearRegression, LogisticRegression"
   ]
  },
  {
   "cell_type": "code",
   "execution_count": 7,
   "id": "ba0dcabc",
   "metadata": {},
   "outputs": [
    {
     "name": "stdout",
     "output_type": "stream",
     "text": [
      "(428,) (428, 4) (428,)\n"
     ]
    }
   ],
   "source": [
    "np.random.seed(1)\n",
    "df = fetch_bonus('DataFrame')\n",
    "df.head(5)\n",
    "\n",
    "import pandas as pd\n",
    "import numpy as np\n",
    "df = pd.read_csv('/Users/pranjal/Desktop/Causal-Inference/data/wage.csv')\n",
    "cat = df.select_dtypes('object').columns\n",
    "df = pd.get_dummies(df, columns = cat, drop_first = True)\n",
    "outcome = 'lwage'\n",
    "treatment = 'educ'\n",
    "rest = ['exper','age', 'kidslt6', 'kidsge6']\n",
    "df = df[[outcome] + [treatment] + rest]\n",
    "df = df.dropna()\n",
    "y = df[outcome]\n",
    "d = df[treatment]\n",
    "x = df[rest].astype('float')\n",
    "\n",
    "l = RandomForestRegressor(n_estimators = 500, max_features = 'sqrt', max_depth= 5)\n",
    "g = clone(l)\n",
    "m = RandomForestRegressor(n_estimators = 500, max_features = 'sqrt', max_depth= 5)\n",
    "\n",
    "def score(y, d, l_hat, m_hat, g_hat, smpls):\n",
    "    u_hat = y - g_hat\n",
    "    psi_a = -np.multiply(d, d)\n",
    "    psi_b = np.multiply(d, u_hat)\n",
    "    return psi_a, psi_b\n",
    "\n",
    "print(y.shape, x.shape, d.shape)"
   ]
  },
  {
   "cell_type": "code",
   "execution_count": 9,
   "id": "0691d6cb",
   "metadata": {},
   "outputs": [],
   "source": [
    "OLS = sm.OLS(y,sm.add_constant(np.c_[d,x])).fit()"
   ]
  },
  {
   "cell_type": "code",
   "execution_count": 10,
   "id": "0db6b608",
   "metadata": {},
   "outputs": [],
   "source": [
    "data = DoubleMLData(df.sample(int(df.shape[0]*0.8)),\n",
    "                  y_col='lwage',\n",
    "                  d_cols='educ',\n",
    "                  x_cols=['exper','age', 'kidslt6', 'kidsge6'])\n",
    "\n",
    "SML = DoubleMLPLR(data, l,m,g, n_folds=1,apply_cross_fitting=False,score=score)\n",
    "SML.fit();"
   ]
  },
  {
   "cell_type": "code",
   "execution_count": 11,
   "id": "4c886179",
   "metadata": {},
   "outputs": [],
   "source": [
    "data = DoubleMLData(df.sample(int(df.shape[0]*0.8)),\n",
    "                  y_col='lwage',\n",
    "                  d_cols='educ',\n",
    "                  x_cols=['exper','age', 'kidslt6', 'kidsge6'])\n",
    "\n",
    "OML = DoubleMLPLR(data, l,m,g, n_folds=1,apply_cross_fitting=False,score='IV-type')\n",
    "OML.fit();"
   ]
  },
  {
   "cell_type": "code",
   "execution_count": 12,
   "id": "2b5dc3b3",
   "metadata": {},
   "outputs": [],
   "source": [
    "data = DoubleMLData(df.sample(int(df.shape[0]*1)),\n",
    "                  y_col='lwage',\n",
    "                  d_cols='educ',\n",
    "                  x_cols=['exper','age', 'kidslt6', 'kidsge6'])\n",
    "\n",
    "DML = DoubleMLPLR(data, l,m,g, n_folds=5,apply_cross_fitting=True,score='IV-type')\n",
    "DML.fit();"
   ]
  },
  {
   "cell_type": "code",
   "execution_count": 13,
   "id": "5b13036a",
   "metadata": {},
   "outputs": [
    {
     "name": "stdout",
     "output_type": "stream",
     "text": [
      "+----------------------------------+-------+-----------+--------+-------+-------+--------+\n",
      "|            Estimator             | θ_hat | Std Error |   t    |   p   |  2.5% | 97.25% |\n",
      "+----------------------------------+-------+-----------+--------+-------+-------+--------+\n",
      "|               OLS                | 0.110 |   0.014   | 7.600  | 0.000 |  nan  |  nan   |\n",
      "|      Naive/Single ML (SML)       | 0.110 |   0.002   | 47.333 | 0.000 | 0.105 | 0.114  |\n",
      "|       Orthogonal ML (OML)        | 0.092 |   0.014   | 6.793  | 0.000 | 0.066 | 0.119  |\n",
      "| Orthogonal+Crossfitting ML (DML) | 0.109 |   0.014   | 7.650  | 0.000 | 0.081 | 0.137  |\n",
      "+----------------------------------+-------+-----------+--------+-------+-------+--------+\n"
     ]
    }
   ],
   "source": [
    "table = PrettyTable()\n",
    "table.field_names = ['Estimator', 'θ_hat', 'Std Error','t','p','2.5%','97.25%']\n",
    "a = ['OLS']+ np.c_[OLS.params[1], OLS.bse[1], OLS.tvalues[1], OLS.pvalues[1], np.nan, np.nan].reshape(-1).tolist()\n",
    "table.add_row(a)\n",
    "a = ['Naive/Single ML (SML)']+ np.array(SML.summary).reshape(-1).tolist()\n",
    "table.add_row(a)\n",
    "a = ['Orthogonal ML (OML)']+ np.array(OML.summary).reshape(-1).tolist()\n",
    "table.add_row(a)\n",
    "a = ['Orthogonal+Crossfitting ML (DML)']+ np.array(DML.summary).reshape(-1).tolist()\n",
    "table.add_row(a)\n",
    "table.float_format = '0.3'\n",
    "print(table)"
   ]
  }
 ],
 "metadata": {
  "kernelspec": {
   "display_name": "Python 3 (ipykernel)",
   "language": "python",
   "name": "python3"
  },
  "language_info": {
   "codemirror_mode": {
    "name": "ipython",
    "version": 3
   },
   "file_extension": ".py",
   "mimetype": "text/x-python",
   "name": "python",
   "nbconvert_exporter": "python",
   "pygments_lexer": "ipython3",
   "version": "3.10.8"
  }
 },
 "nbformat": 4,
 "nbformat_minor": 5
}
