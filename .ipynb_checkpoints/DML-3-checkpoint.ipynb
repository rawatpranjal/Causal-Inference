{
 "cells": [
  {
   "cell_type": "code",
   "execution_count": 155,
   "id": "ad4a5828",
   "metadata": {},
   "outputs": [],
   "source": [
    "import sklearn\n",
    "import econml\n",
    "import numpy as np\n",
    "import scipy as sp"
   ]
  },
  {
   "cell_type": "markdown",
   "id": "45effc72",
   "metadata": {},
   "source": [
    "* Linear Case"
   ]
  },
  {
   "cell_type": "code",
   "execution_count": 156,
   "id": "126d10f2",
   "metadata": {},
   "outputs": [],
   "source": [
    "# Example 1\n",
    "import numpy as np\n",
    "N = 100\n",
    "σ_t = 1\n",
    "σ_y = 1\n",
    "σ_x = 1\n",
    "θ = 0.5\n",
    "α_t = 0.5\n",
    "α_y = 0.5\n",
    "x = np.random.normal(0,σ_x,N)\n",
    "e_t = np.random.normal(0,σ_t,N)\n",
    "e_y = np.random.normal(0,σ_y,N)\n",
    "t = α_t * x + e_t\n",
    "y = α_y * x + θ * t + e_y\n",
    "x = x.reshape(-1, 1)\n",
    "y = y.reshape(-1, 1)\n",
    "t = t.reshape(-1, 1)"
   ]
  },
  {
   "cell_type": "code",
   "execution_count": 157,
   "id": "e612e2a2",
   "metadata": {},
   "outputs": [
    {
     "name": "stdout",
     "output_type": "stream",
     "text": [
      "                                 OLS Regression Results                                \n",
      "=======================================================================================\n",
      "Dep. Variable:                      y   R-squared (uncentered):                   0.485\n",
      "Model:                            OLS   Adj. R-squared (uncentered):              0.480\n",
      "Method:                 Least Squares   F-statistic:                              93.13\n",
      "Date:                Sat, 03 Dec 2022   Prob (F-statistic):                    6.34e-16\n",
      "Time:                        18:59:10   Log-Likelihood:                         -129.43\n",
      "No. Observations:                 100   AIC:                                      260.9\n",
      "Df Residuals:                      99   BIC:                                      263.5\n",
      "Df Model:                           1                                                  \n",
      "Covariance Type:            nonrobust                                                  \n",
      "==============================================================================\n",
      "                 coef    std err          t      P>|t|      [0.025      0.975]\n",
      "------------------------------------------------------------------------------\n",
      "x1             0.7830      0.081      9.650      0.000       0.622       0.944\n",
      "==============================================================================\n",
      "Omnibus:                        0.169   Durbin-Watson:                   1.983\n",
      "Prob(Omnibus):                  0.919   Jarque-Bera (JB):                0.353\n",
      "Skew:                          -0.008   Prob(JB):                        0.838\n",
      "Kurtosis:                       2.709   Cond. No.                         1.00\n",
      "==============================================================================\n",
      "\n",
      "Notes:\n",
      "[1] R² is computed without centering (uncentered) since the model does not contain a constant.\n",
      "[2] Standard Errors assume that the covariance matrix of the errors is correctly specified.\n"
     ]
    }
   ],
   "source": [
    "# Simple Regression - Yeilds biased estimates of ATE\n",
    "import statsmodels.api as sm\n",
    "mod = sm.OLS(y, np.c_[t])\n",
    "res = mod.fit()\n",
    "print(res.summary())"
   ]
  },
  {
   "cell_type": "code",
   "execution_count": 158,
   "id": "2d495ebb",
   "metadata": {},
   "outputs": [
    {
     "name": "stdout",
     "output_type": "stream",
     "text": [
      "                                 OLS Regression Results                                \n",
      "=======================================================================================\n",
      "Dep. Variable:                      y   R-squared (uncentered):                   0.564\n",
      "Model:                            OLS   Adj. R-squared (uncentered):              0.555\n",
      "Method:                 Least Squares   F-statistic:                              63.47\n",
      "Date:                Sat, 03 Dec 2022   Prob (F-statistic):                    2.09e-18\n",
      "Time:                        18:59:11   Log-Likelihood:                         -121.04\n",
      "No. Observations:                 100   AIC:                                      246.1\n",
      "Df Residuals:                      98   BIC:                                      251.3\n",
      "Df Model:                           2                                                  \n",
      "Covariance Type:            nonrobust                                                  \n",
      "==============================================================================\n",
      "                 coef    std err          t      P>|t|      [0.025      0.975]\n",
      "------------------------------------------------------------------------------\n",
      "x1             0.6136      0.085      7.220      0.000       0.445       0.782\n",
      "x2             0.4150      0.098      4.231      0.000       0.220       0.610\n",
      "==============================================================================\n",
      "Omnibus:                        1.112   Durbin-Watson:                   2.037\n",
      "Prob(Omnibus):                  0.573   Jarque-Bera (JB):                1.019\n",
      "Skew:                           0.244   Prob(JB):                        0.601\n",
      "Kurtosis:                       2.916   Cond. No.                         1.70\n",
      "==============================================================================\n",
      "\n",
      "Notes:\n",
      "[1] R² is computed without centering (uncentered) since the model does not contain a constant.\n",
      "[2] Standard Errors assume that the covariance matrix of the errors is correctly specified.\n"
     ]
    }
   ],
   "source": [
    "# Multivariate regression - yeilds unbiased estimate of ATE \n",
    "import statsmodels.api as sm\n",
    "mod = sm.OLS(y, np.c_[t,x])\n",
    "res = mod.fit()\n",
    "print(res.summary())"
   ]
  },
  {
   "cell_type": "code",
   "execution_count": 159,
   "id": "a3c00d7f",
   "metadata": {},
   "outputs": [
    {
     "name": "stdout",
     "output_type": "stream",
     "text": [
      "Coefficient Results:  X is None, please call intercept_inference to learn the constant!\n"
     ]
    },
    {
     "data": {
      "text/html": [
       "<table class=\"simpletable\">\n",
       "<caption>CATE Intercept Results</caption>\n",
       "<tr>\n",
       "         <td></td>        <th>point_estimate</th> <th>stderr</th> <th>zstat</th> <th>pvalue</th> <th>ci_lower</th> <th>ci_upper</th>\n",
       "</tr>\n",
       "<tr>\n",
       "  <th>cate_intercept</th>      <td>0.617</td>      <td>0.071</td> <td>8.707</td>   <td>0.0</td>    <td>0.478</td>    <td>0.756</td> \n",
       "</tr>\n",
       "</table><br/><br/><sub>A linear parametric conditional average treatment effect (CATE) model was fitted:<br/>$Y = \\Theta(X)\\cdot T + g(X, W) + \\epsilon$<br/>where for every outcome $i$ and treatment $j$ the CATE $\\Theta_{ij}(X)$ has the form:<br/>$\\Theta_{ij}(X) = X' coef_{ij} + cate\\_intercept_{ij}$<br/>Coefficient Results table portrays the $coef_{ij}$ parameter vector for each outcome $i$ and treatment $j$. Intercept Results table portrays the $cate\\_intercept_{ij}$ parameter.</sub>"
      ],
      "text/plain": [
       "<class 'econml.utilities.Summary'>\n",
       "\"\"\"\n",
       "                       CATE Intercept Results                      \n",
       "===================================================================\n",
       "               point_estimate stderr zstat pvalue ci_lower ci_upper\n",
       "-------------------------------------------------------------------\n",
       "cate_intercept          0.617  0.071 8.707    0.0    0.478    0.756\n",
       "-------------------------------------------------------------------\n",
       "\n",
       "<sub>A linear parametric conditional average treatment effect (CATE) model was fitted:\n",
       "$Y = \\Theta(X)\\cdot T + g(X, W) + \\epsilon$\n",
       "where for every outcome $i$ and treatment $j$ the CATE $\\Theta_{ij}(X)$ has the form:\n",
       "$\\Theta_{ij}(X) = X' coef_{ij} + cate\\_intercept_{ij}$\n",
       "Coefficient Results table portrays the $coef_{ij}$ parameter vector for each outcome $i$ and treatment $j$. Intercept Results table portrays the $cate\\_intercept_{ij}$ parameter.</sub>\n",
       "\"\"\""
      ]
     },
     "execution_count": 159,
     "metadata": {},
     "output_type": "execute_result"
    }
   ],
   "source": [
    "# Multivariate regression - yeilds unbiased estimate of ATE \n",
    "from econml.dml import LinearDML\n",
    "est = LinearDML(random_state=1)\n",
    "est.fit(y, t, X=None,W=x)\n",
    "est.summary()"
   ]
  },
  {
   "cell_type": "markdown",
   "id": "ee720f89",
   "metadata": {},
   "source": [
    "* Non-linear Case"
   ]
  },
  {
   "cell_type": "code",
   "execution_count": 160,
   "id": "61be3d9c",
   "metadata": {},
   "outputs": [],
   "source": [
    "# Example 2\n",
    "import numpy as np\n",
    "\n",
    "# Hyperparameters\n",
    "N = 50000\n",
    "σ_t = 1\n",
    "σ_y = 1\n",
    "σ_x = 1\n",
    "θ = 0.5\n",
    "α_t = 0.5\n",
    "α_y = 0.5\n",
    "\n",
    "x = np.random.normal(0,σ_x,N)\n",
    "e_t = np.random.normal(0,σ_t,N)\n",
    "e_y = np.random.normal(0,σ_y,N)\n",
    "t = np.exp(α_t * x) + e_t\n",
    "y = np.exp(α_y * x) + θ * t + e_y\n",
    "\n",
    "x = x.reshape(-1, 1)\n",
    "y = y.reshape(-1, 1)\n",
    "t = t.reshape(-1, 1)"
   ]
  },
  {
   "cell_type": "code",
   "execution_count": 161,
   "id": "ebdd87da",
   "metadata": {},
   "outputs": [
    {
     "name": "stdout",
     "output_type": "stream",
     "text": [
      "                                 OLS Regression Results                                \n",
      "=======================================================================================\n",
      "Dep. Variable:                      y   R-squared (uncentered):                   0.680\n",
      "Model:                            OLS   Adj. R-squared (uncentered):              0.680\n",
      "Method:                 Least Squares   F-statistic:                          5.324e+04\n",
      "Date:                Sat, 03 Dec 2022   Prob (F-statistic):                        0.00\n",
      "Time:                        18:59:15   Log-Likelihood:                         -82368.\n",
      "No. Observations:               50000   AIC:                                  1.647e+05\n",
      "Df Residuals:                   49998   BIC:                                  1.648e+05\n",
      "Df Model:                           2                                                  \n",
      "Covariance Type:            nonrobust                                                  \n",
      "==============================================================================\n",
      "                 coef    std err          t      P>|t|      [0.025      0.975]\n",
      "------------------------------------------------------------------------------\n",
      "x1             1.0717      0.004    290.243      0.000       1.064       1.079\n",
      "x2             0.2406      0.006     40.111      0.000       0.229       0.252\n",
      "==============================================================================\n",
      "Omnibus:                        1.898   Durbin-Watson:                   1.687\n",
      "Prob(Omnibus):                  0.387   Jarque-Bera (JB):                1.911\n",
      "Skew:                           0.011   Prob(JB):                        0.385\n",
      "Kurtosis:                       2.980   Cond. No.                         1.84\n",
      "==============================================================================\n",
      "\n",
      "Notes:\n",
      "[1] R² is computed without centering (uncentered) since the model does not contain a constant.\n",
      "[2] Standard Errors assume that the covariance matrix of the errors is correctly specified.\n"
     ]
    }
   ],
   "source": [
    "# Multivariate regression - gives biased estimates of ATE\n",
    "import statsmodels.api as sm\n",
    "mod = sm.OLS(y, np.c_[t,x])\n",
    "res = mod.fit()\n",
    "print(res.summary())"
   ]
  },
  {
   "cell_type": "code",
   "execution_count": 162,
   "id": "6504540d",
   "metadata": {},
   "outputs": [
    {
     "name": "stdout",
     "output_type": "stream",
     "text": [
      "Coefficient Results:  X is None, please call intercept_inference to learn the constant!\n"
     ]
    },
    {
     "data": {
      "text/html": [
       "<table class=\"simpletable\">\n",
       "<caption>CATE Intercept Results</caption>\n",
       "<tr>\n",
       "         <td></td>        <th>point_estimate</th> <th>stderr</th>  <th>zstat</th>  <th>pvalue</th> <th>ci_lower</th> <th>ci_upper</th>\n",
       "</tr>\n",
       "<tr>\n",
       "  <th>cate_intercept</th>      <td>0.536</td>      <td>0.005</td> <td>117.357</td>   <td>0.0</td>    <td>0.527</td>    <td>0.545</td> \n",
       "</tr>\n",
       "</table><br/><br/><sub>A linear parametric conditional average treatment effect (CATE) model was fitted:<br/>$Y = \\Theta(X)\\cdot T + g(X, W) + \\epsilon$<br/>where for every outcome $i$ and treatment $j$ the CATE $\\Theta_{ij}(X)$ has the form:<br/>$\\Theta_{ij}(X) = X' coef_{ij} + cate\\_intercept_{ij}$<br/>Coefficient Results table portrays the $coef_{ij}$ parameter vector for each outcome $i$ and treatment $j$. Intercept Results table portrays the $cate\\_intercept_{ij}$ parameter.</sub>"
      ],
      "text/plain": [
       "<class 'econml.utilities.Summary'>\n",
       "\"\"\"\n",
       "                        CATE Intercept Results                       \n",
       "=====================================================================\n",
       "               point_estimate stderr  zstat  pvalue ci_lower ci_upper\n",
       "---------------------------------------------------------------------\n",
       "cate_intercept          0.536  0.005 117.357    0.0    0.527    0.545\n",
       "---------------------------------------------------------------------\n",
       "\n",
       "<sub>A linear parametric conditional average treatment effect (CATE) model was fitted:\n",
       "$Y = \\Theta(X)\\cdot T + g(X, W) + \\epsilon$\n",
       "where for every outcome $i$ and treatment $j$ the CATE $\\Theta_{ij}(X)$ has the form:\n",
       "$\\Theta_{ij}(X) = X' coef_{ij} + cate\\_intercept_{ij}$\n",
       "Coefficient Results table portrays the $coef_{ij}$ parameter vector for each outcome $i$ and treatment $j$. Intercept Results table portrays the $cate\\_intercept_{ij}$ parameter.</sub>\n",
       "\"\"\""
      ]
     },
     "execution_count": 162,
     "metadata": {},
     "output_type": "execute_result"
    }
   ],
   "source": [
    "# DML regression - still yeilds unbiased estimate of ATE \n",
    "from econml.dml import LinearDML\n",
    "est = LinearDML(random_state=1)\n",
    "est.fit(y, t, X=None,W=x)\n",
    "est.summary()"
   ]
  },
  {
   "cell_type": "markdown",
   "id": "3be8a5ad",
   "metadata": {},
   "source": [
    "* High Dimensional Case"
   ]
  },
  {
   "cell_type": "code",
   "execution_count": 149,
   "id": "d0230b1c",
   "metadata": {},
   "outputs": [],
   "source": [
    "# Example 1\n",
    "import numpy as np\n",
    "N = 10000\n",
    "σ_t = 1\n",
    "σ_y = 1\n",
    "σ_x = 1\n",
    "θ = 0.5\n",
    "K = 50\n",
    "x = np.random.normal(0,σ_x,(N,K))\n",
    "α_t = np.random.normal(0,1,K)\n",
    "α_y = np.random.normal(0,1,K)\n",
    "e_t = np.random.normal(0,σ_t,N)\n",
    "e_y = np.random.normal(0,σ_y,N)\n",
    "t = np.dot(α_t,x.T) + e_t\n",
    "y = np.dot(α_y,x.T) + θ * t + e_y\n",
    "#x = x.reshape(-1, 1)\n",
    "y = y.reshape(-1, 1)\n",
    "t = t.reshape(-1, 1)"
   ]
  },
  {
   "cell_type": "code",
   "execution_count": 152,
   "id": "7b6827ca",
   "metadata": {},
   "outputs": [
    {
     "ename": "AttributeError",
     "evalue": "'RegularizedResults' object has no attribute 'RegularizedResults'",
     "output_type": "error",
     "traceback": [
      "\u001b[0;31m---------------------------------------------------------------------------\u001b[0m",
      "\u001b[0;31mAttributeError\u001b[0m                            Traceback (most recent call last)",
      "Cell \u001b[0;32mIn [152], line 5\u001b[0m\n\u001b[1;32m      3\u001b[0m mod \u001b[38;5;241m=\u001b[39m sm\u001b[38;5;241m.\u001b[39mOLS(y, np\u001b[38;5;241m.\u001b[39mc_[t,x])\n\u001b[1;32m      4\u001b[0m res \u001b[38;5;241m=\u001b[39m mod\u001b[38;5;241m.\u001b[39mfit_regularized()\n\u001b[0;32m----> 5\u001b[0m \u001b[38;5;28mprint\u001b[39m(\u001b[43mres\u001b[49m\u001b[38;5;241;43m.\u001b[39;49m\u001b[43mRegularizedResults\u001b[49m)\n",
      "File \u001b[0;32m/usr/local/lib/python3.10/site-packages/statsmodels/base/wrapper.py:34\u001b[0m, in \u001b[0;36mResultsWrapper.__getattribute__\u001b[0;34m(self, attr)\u001b[0m\n\u001b[1;32m     31\u001b[0m \u001b[38;5;28;01mexcept\u001b[39;00m \u001b[38;5;167;01mAttributeError\u001b[39;00m:\n\u001b[1;32m     32\u001b[0m     \u001b[38;5;28;01mpass\u001b[39;00m\n\u001b[0;32m---> 34\u001b[0m obj \u001b[38;5;241m=\u001b[39m \u001b[38;5;28;43mgetattr\u001b[39;49m\u001b[43m(\u001b[49m\u001b[43mresults\u001b[49m\u001b[43m,\u001b[49m\u001b[43m \u001b[49m\u001b[43mattr\u001b[49m\u001b[43m)\u001b[49m\n\u001b[1;32m     35\u001b[0m data \u001b[38;5;241m=\u001b[39m results\u001b[38;5;241m.\u001b[39mmodel\u001b[38;5;241m.\u001b[39mdata\n\u001b[1;32m     36\u001b[0m how \u001b[38;5;241m=\u001b[39m \u001b[38;5;28mself\u001b[39m\u001b[38;5;241m.\u001b[39m_wrap_attrs\u001b[38;5;241m.\u001b[39mget(attr)\n",
      "\u001b[0;31mAttributeError\u001b[0m: 'RegularizedResults' object has no attribute 'RegularizedResults'"
     ]
    }
   ],
   "source": [
    "# Multivariate regression - works!\n",
    "import statsmodels.api as sm\n",
    "mod = sm.OLS(y, np.c_[t,x])\n",
    "res = mod.fit_regularized()\n",
    "print(res.RegularizedResults)"
   ]
  },
  {
   "cell_type": "code",
   "execution_count": 153,
   "id": "b4e1f343",
   "metadata": {},
   "outputs": [
    {
     "ename": "AttributeError",
     "evalue": "'RegularizedResults' object has no attribute 'RegularizedResults'",
     "output_type": "error",
     "traceback": [
      "\u001b[0;31m---------------------------------------------------------------------------\u001b[0m",
      "\u001b[0;31mAttributeError\u001b[0m                            Traceback (most recent call last)",
      "Cell \u001b[0;32mIn [153], line 1\u001b[0m\n\u001b[0;32m----> 1\u001b[0m \u001b[38;5;28mprint\u001b[39m(\u001b[43mres\u001b[49m\u001b[38;5;241;43m.\u001b[39;49m\u001b[43mRegularizedResults\u001b[49m())\n",
      "File \u001b[0;32m/usr/local/lib/python3.10/site-packages/statsmodels/base/wrapper.py:34\u001b[0m, in \u001b[0;36mResultsWrapper.__getattribute__\u001b[0;34m(self, attr)\u001b[0m\n\u001b[1;32m     31\u001b[0m \u001b[38;5;28;01mexcept\u001b[39;00m \u001b[38;5;167;01mAttributeError\u001b[39;00m:\n\u001b[1;32m     32\u001b[0m     \u001b[38;5;28;01mpass\u001b[39;00m\n\u001b[0;32m---> 34\u001b[0m obj \u001b[38;5;241m=\u001b[39m \u001b[38;5;28;43mgetattr\u001b[39;49m\u001b[43m(\u001b[49m\u001b[43mresults\u001b[49m\u001b[43m,\u001b[49m\u001b[43m \u001b[49m\u001b[43mattr\u001b[49m\u001b[43m)\u001b[49m\n\u001b[1;32m     35\u001b[0m data \u001b[38;5;241m=\u001b[39m results\u001b[38;5;241m.\u001b[39mmodel\u001b[38;5;241m.\u001b[39mdata\n\u001b[1;32m     36\u001b[0m how \u001b[38;5;241m=\u001b[39m \u001b[38;5;28mself\u001b[39m\u001b[38;5;241m.\u001b[39m_wrap_attrs\u001b[38;5;241m.\u001b[39mget(attr)\n",
      "\u001b[0;31mAttributeError\u001b[0m: 'RegularizedResults' object has no attribute 'RegularizedResults'"
     ]
    }
   ],
   "source": [
    "print(res.RegularizedResults())"
   ]
  },
  {
   "cell_type": "code",
   "execution_count": 154,
   "id": "fad41567",
   "metadata": {},
   "outputs": [
    {
     "name": "stdout",
     "output_type": "stream",
     "text": [
      "Coefficient Results:  X is None, please call intercept_inference to learn the constant!\n"
     ]
    },
    {
     "data": {
      "text/html": [
       "<table class=\"simpletable\">\n",
       "<caption>CATE Intercept Results</caption>\n",
       "<tr>\n",
       "         <td></td>        <th>point_estimate</th> <th>stderr</th>  <th>zstat</th> <th>pvalue</th> <th>ci_lower</th> <th>ci_upper</th>\n",
       "</tr>\n",
       "<tr>\n",
       "  <th>cate_intercept</th>      <td>0.514</td>      <td>0.01</td>  <td>51.964</td>   <td>0.0</td>    <td>0.494</td>    <td>0.533</td> \n",
       "</tr>\n",
       "</table><br/><br/><sub>A linear parametric conditional average treatment effect (CATE) model was fitted:<br/>$Y = \\Theta(X)\\cdot T + g(X, W) + \\epsilon$<br/>where for every outcome $i$ and treatment $j$ the CATE $\\Theta_{ij}(X)$ has the form:<br/>$\\Theta_{ij}(X) = X' coef_{ij} + cate\\_intercept_{ij}$<br/>Coefficient Results table portrays the $coef_{ij}$ parameter vector for each outcome $i$ and treatment $j$. Intercept Results table portrays the $cate\\_intercept_{ij}$ parameter.</sub>"
      ],
      "text/plain": [
       "<class 'econml.utilities.Summary'>\n",
       "\"\"\"\n",
       "                       CATE Intercept Results                       \n",
       "====================================================================\n",
       "               point_estimate stderr zstat  pvalue ci_lower ci_upper\n",
       "--------------------------------------------------------------------\n",
       "cate_intercept          0.514   0.01 51.964    0.0    0.494    0.533\n",
       "--------------------------------------------------------------------\n",
       "\n",
       "<sub>A linear parametric conditional average treatment effect (CATE) model was fitted:\n",
       "$Y = \\Theta(X)\\cdot T + g(X, W) + \\epsilon$\n",
       "where for every outcome $i$ and treatment $j$ the CATE $\\Theta_{ij}(X)$ has the form:\n",
       "$\\Theta_{ij}(X) = X' coef_{ij} + cate\\_intercept_{ij}$\n",
       "Coefficient Results table portrays the $coef_{ij}$ parameter vector for each outcome $i$ and treatment $j$. Intercept Results table portrays the $cate\\_intercept_{ij}$ parameter.</sub>\n",
       "\"\"\""
      ]
     },
     "execution_count": 154,
     "metadata": {},
     "output_type": "execute_result"
    }
   ],
   "source": [
    "# DML regression - still yeilds unbiased estimate of ATE \n",
    "from econml.dml import LinearDML\n",
    "est = LinearDML(random_state=1)\n",
    "est.fit(y, t, X=None,W=x)\n",
    "est.summary()"
   ]
  },
  {
   "cell_type": "code",
   "execution_count": null,
   "id": "a765b11d",
   "metadata": {},
   "outputs": [],
   "source": [
    "* High"
   ]
  }
 ],
 "metadata": {
  "kernelspec": {
   "display_name": "Python 3 (ipykernel)",
   "language": "python",
   "name": "python3"
  },
  "language_info": {
   "codemirror_mode": {
    "name": "ipython",
    "version": 3
   },
   "file_extension": ".py",
   "mimetype": "text/x-python",
   "name": "python",
   "nbconvert_exporter": "python",
   "pygments_lexer": "ipython3",
   "version": "3.10.8"
  }
 },
 "nbformat": 4,
 "nbformat_minor": 5
}
