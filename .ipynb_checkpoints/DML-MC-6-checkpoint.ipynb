{
 "cells": [
  {
   "cell_type": "code",
   "execution_count": 1,
   "id": "155fbd5c",
   "metadata": {},
   "outputs": [],
   "source": [
    "import warnings\n",
    "warnings.filterwarnings(\"ignore\")\n",
    "import seaborn as sns\n",
    "import pandas as pd \n",
    "import matplotlib.pyplot as plt \n",
    "import statsmodels.api as sm\n",
    "import numpy as np\n",
    "from econml.dml import LinearDML\n",
    "from sklearn.ensemble import RandomForestRegressor"
   ]
  },
  {
   "cell_type": "code",
   "execution_count": null,
   "id": "b4a5c00c",
   "metadata": {},
   "outputs": [],
   "source": [
    "MC_N = 100\n",
    "MC_store = np.zeros((MC_N,3))\n",
    "for j in range(MC_N):\n",
    "    print(j)\n",
    "    N = 5000\n",
    "    K = 50\n",
    "    σ_t = 1\n",
    "    σ_y = 1\n",
    "    σ_x = 1\n",
    "    θ = 0.5 # TRUE ATE\n",
    "    α_t = np.random.normal(1,0.1,K)\n",
    "    α_y = np.random.normal(1,0.1,K)\n",
    "    x = np.random.normal(0,σ_x,(N,K))\n",
    "    e_t = np.random.normal(0,σ_t,N)\n",
    "    e_y = np.random.normal(0,σ_y,N)\n",
    "    t = np.dot(α_t,x.T) + e_t\n",
    "    y = np.dot(α_y,x.T) + θ * t + e_y\n",
    "    y = y.reshape(-1, 1)\n",
    "    t = t.reshape(-1, 1)\n",
    "\n",
    "    # OLS\n",
    "    mod = sm.OLS(y, np.c_[t,x])\n",
    "    res = mod.fit()\n",
    "    θ_OLS = res.params[0]\n",
    "\n",
    "    # DML Lasso\n",
    "    est = LinearDML(random_state=1)\n",
    "    est.fit(y, t, X=None,W=x)\n",
    "    θ_DMLL = est.intercept_\n",
    "\n",
    "    # DML RF\n",
    "    est = LinearDML(discrete_treatment=False, model_y = RandomForestRegressor(), model_t = RandomForestRegressor())\n",
    "    est.fit(y.ravel(), t.ravel(), X=None,W=x)\n",
    "    θ_DMLRF = est.intercept_\n",
    "    \n",
    "    MC_store[j] = [θ_OLS, θ_DMLL, θ_DMLRF]"
   ]
  },
  {
   "cell_type": "code",
   "execution_count": null,
   "id": "bf47f69f",
   "metadata": {},
   "outputs": [],
   "source": []
  },
  {
   "cell_type": "code",
   "execution_count": null,
   "id": "8a5acecf",
   "metadata": {},
   "outputs": [],
   "source": [
    "df = pd.DataFrame(MC_store[0:90, :],columns=['OLS','DMLL','DMLRF'])\n",
    "sns.kdeplot(df)\n",
    "plt.axvline(0.5, color='black')"
   ]
  },
  {
   "cell_type": "code",
   "execution_count": null,
   "id": "af5805b4",
   "metadata": {},
   "outputs": [],
   "source": []
  }
 ],
 "metadata": {
  "kernelspec": {
   "display_name": "Python 3 (ipykernel)",
   "language": "python",
   "name": "python3"
  },
  "language_info": {
   "codemirror_mode": {
    "name": "ipython",
    "version": 3
   },
   "file_extension": ".py",
   "mimetype": "text/x-python",
   "name": "python",
   "nbconvert_exporter": "python",
   "pygments_lexer": "ipython3",
   "version": "3.10.8"
  }
 },
 "nbformat": 4,
 "nbformat_minor": 5
}
