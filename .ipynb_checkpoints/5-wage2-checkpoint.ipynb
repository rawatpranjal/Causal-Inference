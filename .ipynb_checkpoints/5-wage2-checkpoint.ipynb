{
 "cells": [
  {
   "cell_type": "markdown",
   "id": "bc8bc1d0",
   "metadata": {},
   "source": [
    "# Packages"
   ]
  },
  {
   "cell_type": "code",
   "execution_count": 148,
   "id": "cbc5a055",
   "metadata": {},
   "outputs": [],
   "source": [
    "import numpy as np\n",
    "import pandas as pd\n",
    "from doubleml.datasets import fetch_bonus\n",
    "from doubleml import DoubleMLData \n",
    "import statsmodels.api as sm\n",
    "from sklearn.base import clone\n",
    "from sklearn.ensemble import RandomForestRegressor, RandomForestClassifier\n",
    "from sklearn.linear_model import LassoCV\n",
    "from doubleml import DoubleMLPLIV\n",
    "from doubleml import DoubleMLPLR\n",
    "from prettytable import PrettyTable\n",
    "from PIL import Image, ImageDraw, ImageFont\n",
    "from sklearn.linear_model import LinearRegression, LogisticRegression, LassoCV, LogisticRegressionCV\n",
    "from sklearn.neural_network import MLPRegressor, MLPClassifier\n",
    "from catboost import CatBoostRegressor, CatBoostClassifier\n",
    "from xgboost import XGBRegressor, XGBClassifier\n",
    "from sklearn.preprocessing import normalize\n",
    "from sklearn.model_selection import cross_val_score\n",
    "import warnings\n",
    "warnings.filterwarnings('ignore')\n",
    "np.random.seed(3293423)"
   ]
  },
  {
   "cell_type": "markdown",
   "id": "3e3ea0e8",
   "metadata": {},
   "source": [
    "# Load the Data"
   ]
  },
  {
   "cell_type": "code",
   "execution_count": 149,
   "id": "ba0dcabc",
   "metadata": {},
   "outputs": [
    {
     "name": "stdout",
     "output_type": "stream",
     "text": [
      "(935, 17)\n"
     ]
    },
    {
     "data": {
      "text/html": [
       "<div>\n",
       "<style scoped>\n",
       "    .dataframe tbody tr th:only-of-type {\n",
       "        vertical-align: middle;\n",
       "    }\n",
       "\n",
       "    .dataframe tbody tr th {\n",
       "        vertical-align: top;\n",
       "    }\n",
       "\n",
       "    .dataframe thead th {\n",
       "        text-align: right;\n",
       "    }\n",
       "</style>\n",
       "<table border=\"1\" class=\"dataframe\">\n",
       "  <thead>\n",
       "    <tr style=\"text-align: right;\">\n",
       "      <th></th>\n",
       "      <th>wage</th>\n",
       "      <th>hours</th>\n",
       "      <th>IQ</th>\n",
       "      <th>KWW</th>\n",
       "      <th>educ</th>\n",
       "      <th>exper</th>\n",
       "      <th>tenure</th>\n",
       "      <th>age</th>\n",
       "      <th>married</th>\n",
       "      <th>black</th>\n",
       "      <th>south</th>\n",
       "      <th>urban</th>\n",
       "      <th>sibs</th>\n",
       "      <th>brthord</th>\n",
       "      <th>meduc</th>\n",
       "      <th>feduc</th>\n",
       "      <th>lwage</th>\n",
       "    </tr>\n",
       "  </thead>\n",
       "  <tbody>\n",
       "    <tr>\n",
       "      <th>0</th>\n",
       "      <td>769</td>\n",
       "      <td>40</td>\n",
       "      <td>93</td>\n",
       "      <td>35</td>\n",
       "      <td>12</td>\n",
       "      <td>11</td>\n",
       "      <td>2</td>\n",
       "      <td>31</td>\n",
       "      <td>1</td>\n",
       "      <td>0</td>\n",
       "      <td>0</td>\n",
       "      <td>1</td>\n",
       "      <td>1</td>\n",
       "      <td>2.0</td>\n",
       "      <td>8.0</td>\n",
       "      <td>8.0</td>\n",
       "      <td>6.645091</td>\n",
       "    </tr>\n",
       "    <tr>\n",
       "      <th>1</th>\n",
       "      <td>808</td>\n",
       "      <td>50</td>\n",
       "      <td>119</td>\n",
       "      <td>41</td>\n",
       "      <td>18</td>\n",
       "      <td>11</td>\n",
       "      <td>16</td>\n",
       "      <td>37</td>\n",
       "      <td>1</td>\n",
       "      <td>0</td>\n",
       "      <td>0</td>\n",
       "      <td>1</td>\n",
       "      <td>1</td>\n",
       "      <td>NaN</td>\n",
       "      <td>14.0</td>\n",
       "      <td>14.0</td>\n",
       "      <td>6.694562</td>\n",
       "    </tr>\n",
       "    <tr>\n",
       "      <th>2</th>\n",
       "      <td>825</td>\n",
       "      <td>40</td>\n",
       "      <td>108</td>\n",
       "      <td>46</td>\n",
       "      <td>14</td>\n",
       "      <td>11</td>\n",
       "      <td>9</td>\n",
       "      <td>33</td>\n",
       "      <td>1</td>\n",
       "      <td>0</td>\n",
       "      <td>0</td>\n",
       "      <td>1</td>\n",
       "      <td>1</td>\n",
       "      <td>2.0</td>\n",
       "      <td>14.0</td>\n",
       "      <td>14.0</td>\n",
       "      <td>6.715383</td>\n",
       "    </tr>\n",
       "    <tr>\n",
       "      <th>3</th>\n",
       "      <td>650</td>\n",
       "      <td>40</td>\n",
       "      <td>96</td>\n",
       "      <td>32</td>\n",
       "      <td>12</td>\n",
       "      <td>13</td>\n",
       "      <td>7</td>\n",
       "      <td>32</td>\n",
       "      <td>1</td>\n",
       "      <td>0</td>\n",
       "      <td>0</td>\n",
       "      <td>1</td>\n",
       "      <td>4</td>\n",
       "      <td>3.0</td>\n",
       "      <td>12.0</td>\n",
       "      <td>12.0</td>\n",
       "      <td>6.476973</td>\n",
       "    </tr>\n",
       "    <tr>\n",
       "      <th>4</th>\n",
       "      <td>562</td>\n",
       "      <td>40</td>\n",
       "      <td>74</td>\n",
       "      <td>27</td>\n",
       "      <td>11</td>\n",
       "      <td>14</td>\n",
       "      <td>5</td>\n",
       "      <td>34</td>\n",
       "      <td>1</td>\n",
       "      <td>0</td>\n",
       "      <td>0</td>\n",
       "      <td>1</td>\n",
       "      <td>10</td>\n",
       "      <td>6.0</td>\n",
       "      <td>6.0</td>\n",
       "      <td>11.0</td>\n",
       "      <td>6.331502</td>\n",
       "    </tr>\n",
       "  </tbody>\n",
       "</table>\n",
       "</div>"
      ],
      "text/plain": [
       "   wage  hours   IQ  KWW  educ  exper  tenure  age  married  black  south  \\\n",
       "0   769     40   93   35    12     11       2   31        1      0      0   \n",
       "1   808     50  119   41    18     11      16   37        1      0      0   \n",
       "2   825     40  108   46    14     11       9   33        1      0      0   \n",
       "3   650     40   96   32    12     13       7   32        1      0      0   \n",
       "4   562     40   74   27    11     14       5   34        1      0      0   \n",
       "\n",
       "   urban  sibs  brthord  meduc  feduc     lwage  \n",
       "0      1     1      2.0    8.0    8.0  6.645091  \n",
       "1      1     1      NaN   14.0   14.0  6.694562  \n",
       "2      1     1      2.0   14.0   14.0  6.715383  \n",
       "3      1     4      3.0   12.0   12.0  6.476973  \n",
       "4      1    10      6.0    6.0   11.0  6.331502  "
      ]
     },
     "execution_count": 149,
     "metadata": {},
     "output_type": "execute_result"
    }
   ],
   "source": [
    "df = pd.read_csv('/Users/pranjal/Desktop/Causal-Inference/data/wage2.csv')\n",
    "cat = df.select_dtypes('object').columns\n",
    "df = pd.get_dummies(df, columns = cat, drop_first = True)\n",
    "df = df[df.wage>0]\n",
    "print(df.shape)\n",
    "df.head()"
   ]
  },
  {
   "cell_type": "code",
   "execution_count": 150,
   "id": "dcefa355",
   "metadata": {},
   "outputs": [
    {
     "name": "stdout",
     "output_type": "stream",
     "text": [
      "wage         0\n",
      "hours        0\n",
      "IQ           0\n",
      "KWW          0\n",
      "educ         0\n",
      "exper        0\n",
      "tenure       0\n",
      "age          0\n",
      "married      0\n",
      "black        0\n",
      "south        0\n",
      "urban        0\n",
      "sibs         0\n",
      "brthord     83\n",
      "meduc       78\n",
      "feduc      194\n",
      "lwage        0\n",
      "dtype: int64\n"
     ]
    }
   ],
   "source": [
    "print(df.isnull().sum())"
   ]
  },
  {
   "cell_type": "code",
   "execution_count": 152,
   "id": "13df97da",
   "metadata": {},
   "outputs": [
    {
     "name": "stdout",
     "output_type": "stream",
     "text": [
      "(663,) (663,) (663, 9)\n"
     ]
    }
   ],
   "source": [
    "outcome = 'lwage'\n",
    "treatment = 'educ'\n",
    "#rest = ['exper','age', 'kidslt6', 'kidsge6']\n",
    "rest = ['IQ', 'KWW', 'exper', 'tenure', 'age',\n",
    "       'married', 'black', 'south', 'urban']\n",
    "instruments = ['sibs', 'brthord', 'meduc','feduc',]\n",
    "df = df.dropna()\n",
    "df = df[[outcome] + [treatment] + rest + instruments]\n",
    "y = df[outcome]\n",
    "d = df[treatment]\n",
    "x = df[rest].astype('float')\n",
    "print(y.shape, d.shape, x.shape)"
   ]
  },
  {
   "cell_type": "markdown",
   "id": "b8448830",
   "metadata": {},
   "source": [
    "# First Stage"
   ]
  },
  {
   "cell_type": "code",
   "execution_count": 153,
   "id": "e42a800c",
   "metadata": {},
   "outputs": [
    {
     "name": "stdout",
     "output_type": "stream",
     "text": [
      "0.20359759817155315\n",
      "0.20351200310295878\n",
      "0.16494721124597875\n",
      "0.061937664057549434\n",
      "-0.02072879863288537\n",
      "0.0877746785564095\n"
     ]
    }
   ],
   "source": [
    "k=int(df.shape[0]*0.8)\n",
    "df = df.sample(df.shape[0])\n",
    "y = df[outcome]\n",
    "d = df[treatment]\n",
    "x = df[rest]\n",
    "\n",
    "# 5-Fold Cross validation\n",
    "print(np.mean(cross_val_score(LinearRegression(), x, y, cv=5)))\n",
    "print(np.mean(cross_val_score(LassoCV(), x, y, cv=5)))\n",
    "print(np.mean(cross_val_score(RandomForestRegressor(max_depth=3), x, y, cv=5)))\n",
    "print(np.mean(cross_val_score(CatBoostRegressor(max_depth=3, verbose=0), x, y, cv=5)))\n",
    "print(np.mean(cross_val_score(XGBRegressor(max_depth=3, verbosity=0), x, y, cv=5)))\n",
    "print(np.mean(cross_val_score(MLPRegressor(learning_rate_init=0.01), normalize(x), y, cv=5)))"
   ]
  },
  {
   "cell_type": "code",
   "execution_count": 154,
   "id": "71075132",
   "metadata": {},
   "outputs": [
    {
     "name": "stdout",
     "output_type": "stream",
     "text": [
      "0.4829702626710158\n",
      "0.48053906899085463\n",
      "0.5152576993901208\n",
      "0.5079718966895455\n",
      "0.44802956092991286\n",
      "0.3501177138298527\n"
     ]
    }
   ],
   "source": [
    "# 10-Fold Cross validation\n",
    "print(np.mean(cross_val_score(LinearRegression(), x, d, cv=5)))\n",
    "print(np.mean(cross_val_score(LassoCV(), x, d, cv=5)))\n",
    "print(np.mean(cross_val_score(RandomForestRegressor(max_depth=5,), x, d, cv=5)))\n",
    "print(np.mean(cross_val_score(CatBoostRegressor(max_depth=5,verbose=0), x, d, cv=5)))\n",
    "print(np.mean(cross_val_score(XGBRegressor(max_depth=5,verbosity=0), x, d, cv=5)))\n",
    "print(np.mean(cross_val_score(MLPRegressor(learning_rate_init=0.01), normalize(x), d, cv=5)))"
   ]
  },
  {
   "cell_type": "markdown",
   "id": "74745986",
   "metadata": {},
   "source": [
    "# OLS"
   ]
  },
  {
   "cell_type": "code",
   "execution_count": 155,
   "id": "0691d6cb",
   "metadata": {},
   "outputs": [
    {
     "name": "stdout",
     "output_type": "stream",
     "text": [
      "                            OLS Regression Results                            \n",
      "==============================================================================\n",
      "Dep. Variable:                  lwage   R-squared:                       0.270\n",
      "Model:                            OLS   Adj. R-squared:                  0.258\n",
      "Method:                 Least Squares   F-statistic:                     24.08\n",
      "Date:                Thu, 15 Dec 2022   Prob (F-statistic):           8.51e-39\n",
      "Time:                        01:32:03   Log-Likelihood:                -248.51\n",
      "No. Observations:                 663   AIC:                             519.0\n",
      "Df Residuals:                     652   BIC:                             568.5\n",
      "Df Model:                          10                                         \n",
      "Covariance Type:            nonrobust                                         \n",
      "==============================================================================\n",
      "                 coef    std err          t      P>|t|      [0.025      0.975]\n",
      "------------------------------------------------------------------------------\n",
      "constant       4.9392      0.202     24.398      0.000       4.542       5.337\n",
      "educ           0.0467      0.009      5.348      0.000       0.030       0.064\n",
      "IQ             0.0036      0.001      2.960      0.003       0.001       0.006\n",
      "KWW            0.0036      0.002      1.501      0.134      -0.001       0.008\n",
      "exper          0.0114      0.004      2.546      0.011       0.003       0.020\n",
      "tenure         0.0075      0.003      2.582      0.010       0.002       0.013\n",
      "age            0.0079      0.006      1.309      0.191      -0.004       0.020\n",
      "married        0.1967      0.046      4.230      0.000       0.105       0.288\n",
      "black         -0.1035      0.055     -1.892      0.059      -0.211       0.004\n",
      "south         -0.0629      0.031     -2.052      0.041      -0.123      -0.003\n",
      "urban          0.1960      0.031      6.225      0.000       0.134       0.258\n",
      "==============================================================================\n",
      "Omnibus:                       48.829   Durbin-Watson:                   2.081\n",
      "Prob(Omnibus):                  0.000   Jarque-Bera (JB):              157.664\n",
      "Skew:                          -0.283   Prob(JB):                     5.80e-35\n",
      "Kurtosis:                       5.321   Cond. No.                     1.71e+03\n",
      "==============================================================================\n",
      "\n",
      "Notes:\n",
      "[1] Standard Errors assume that the covariance matrix of the errors is correctly specified.\n",
      "[2] The condition number is large, 1.71e+03. This might indicate that there are\n",
      "strong multicollinearity or other numerical problems.\n"
     ]
    }
   ],
   "source": [
    "OLS = sm.OLS(endog=y, exog=sm.add_constant(np.c_[d,x]), prepend=True).fit()\n",
    "print(OLS.summary(xname=['constant', treatment]+rest))"
   ]
  },
  {
   "cell_type": "code",
   "execution_count": 167,
   "id": "c88bad44",
   "metadata": {},
   "outputs": [
    {
     "name": "stdout",
     "output_type": "stream",
     "text": [
      "                          IV2SLS Regression Results                           \n",
      "==============================================================================\n",
      "Dep. Variable:                  lwage   R-squared:                       0.181\n",
      "Model:                         IV2SLS   Adj. R-squared:                  0.169\n",
      "Method:                     Two Stage   F-statistic:                     20.15\n",
      "                        Least Squares   Prob (F-statistic):           1.19e-32\n",
      "Date:                Thu, 15 Dec 2022                                         \n",
      "Time:                        02:34:05                                         \n",
      "No. Observations:                 663                                         \n",
      "Df Residuals:                     652                                         \n",
      "Df Model:                          10                                         \n",
      "==============================================================================\n",
      "                 coef    std err          t      P>|t|      [0.025      0.975]\n",
      "------------------------------------------------------------------------------\n",
      "const          4.6647      0.246     18.939      0.000       4.181       5.148\n",
      "educ           0.1244      0.036      3.500      0.000       0.055       0.194\n",
      "IQ            -0.0009      0.002     -0.380      0.704      -0.006       0.004\n",
      "KWW           -0.0007      0.003     -0.214      0.831      -0.007       0.006\n",
      "exper          0.0302      0.010      3.155      0.002       0.011       0.049\n",
      "tenure         0.0070      0.003      2.250      0.025       0.001       0.013\n",
      "age           -0.0036      0.008     -0.442      0.658      -0.020       0.012\n",
      "married        0.2141      0.050      4.296      0.000       0.116       0.312\n",
      "black         -0.1456      0.061     -2.393      0.017      -0.265      -0.026\n",
      "south         -0.0683      0.033     -2.100      0.036      -0.132      -0.004\n",
      "urban          0.1809      0.034      5.323      0.000       0.114       0.248\n",
      "==============================================================================\n",
      "Omnibus:                       19.758   Durbin-Watson:                   2.018\n",
      "Prob(Omnibus):                  0.000   Jarque-Bera (JB):               40.668\n",
      "Skew:                          -0.113   Prob(JB):                     1.48e-09\n",
      "Kurtosis:                       4.192   Cond. No.                     1.71e+03\n",
      "==============================================================================\n"
     ]
    }
   ],
   "source": [
    "from statsmodels.sandbox.regression.gmm import IV2SLS\n",
    "endog = df['lwage']\n",
    "exog =  df[[treatment] + rest]\n",
    "instr = df[rest + instruments]\n",
    "exog_constant = sm.add_constant(exog)\n",
    "instr_constant = sm.add_constant(instr)\n",
    "IV2SLS = IV2SLS(endog, exog_constant, instrument = instr_constant).fit()\n",
    "print(IV2SLS.summary())"
   ]
  },
  {
   "cell_type": "markdown",
   "id": "ae0712ed",
   "metadata": {},
   "source": [
    "# ML Estimation"
   ]
  },
  {
   "cell_type": "code",
   "execution_count": 158,
   "id": "25c4d154",
   "metadata": {},
   "outputs": [],
   "source": [
    "l = RandomForestRegressor(max_depth=4) # Model for E[Y|X] = E[θD+g(X)]\n",
    "g = RandomForestRegressor(max_depth=4) # Model for E[Y - θD|X]=g(X)\n",
    "r = m = RandomForestRegressor(max_depth=4) # Model for E[D|X]\n",
    "\n",
    "def score(y, d, l_hat, m_hat, g_hat, smpls):\n",
    "    \"Score function for Single ML\"\n",
    "    u_hat = y - g_hat\n",
    "    psi_a = -np.multiply(d, d)\n",
    "    psi_b = np.multiply(d, u_hat)\n",
    "    return psi_a, psi_b"
   ]
  },
  {
   "cell_type": "markdown",
   "id": "79977e89",
   "metadata": {},
   "source": [
    "# Orthogonal + Crossfitting (DML)"
   ]
  },
  {
   "cell_type": "code",
   "execution_count": 162,
   "id": "2b5dc3b3",
   "metadata": {},
   "outputs": [
    {
     "name": "stdout",
     "output_type": "stream",
     "text": [
      "          coef   std err       t     P>|t|     2.5 %    97.5 %\n",
      "educ  0.148809  0.043241  3.4414  0.000579  0.064058  0.233559\n"
     ]
    }
   ],
   "source": [
    "data = DoubleMLData(df, y_col=outcome,d_cols=treatment,x_cols=rest,z_cols=instruments)\n",
    "DML = DoubleMLPLIV(data, l,m,g, n_folds=5,apply_cross_fitting=True)\n",
    "DML.fit();\n",
    "print(DML.summary)"
   ]
  },
  {
   "cell_type": "markdown",
   "id": "d441e6e9",
   "metadata": {},
   "source": [
    "# Summary"
   ]
  },
  {
   "cell_type": "code",
   "execution_count": 169,
   "id": "5b13036a",
   "metadata": {},
   "outputs": [
    {
     "name": "stdout",
     "output_type": "stream",
     "text": [
      "+-----------------+-------+-----------+-------+-------+-------+--------+\n",
      "|    Estimator    | θ_hat | Std Error |   t   |   p   |  2.5% | 97.25% |\n",
      "+-----------------+-------+-----------+-------+-------+-------+--------+\n",
      "|       OLS       | 0.047 |   0.009   | 5.348 | 0.000 |  nan  |  nan   |\n",
      "|     IV-2SLS     | 0.124 |   0.036   | 3.500 | 0.000 |  nan  |  nan   |\n",
      "| Double ML (DML) | 0.149 |   0.043   | 3.441 | 0.001 | 0.064 | 0.234  |\n",
      "+-----------------+-------+-----------+-------+-------+-------+--------+\n"
     ]
    }
   ],
   "source": [
    "table = PrettyTable()\n",
    "table.field_names = ['Estimator', 'θ_hat', 'Std Error','t','p','2.5%','97.25%']\n",
    "idx = 1\n",
    "a = ['OLS']+ np.c_[OLS.params[idx], OLS.bse[idx], OLS.tvalues[idx], OLS.pvalues[idx], np.nan, np.nan].reshape(-1).tolist()\n",
    "table.add_row(a)\n",
    "a = ['IV-2SLS']+ np.c_[IV2SLS.params[1], IV2SLS.bse[1], IV2SLS.tvalues[1], IV2SLS.pvalues[1], np.nan, np.nan].reshape(-1).tolist()\n",
    "table.add_row(a)\n",
    "#a = ['Naive/Single ML (SML)']+ np.array(SML.summary).reshape(-1).tolist()\n",
    "#table.add_row(a)\n",
    "#a = ['Orthogonal ML (OML)']+ np.array(OML.summary).reshape(-1).tolist()\n",
    "#table.add_row(a)\n",
    "a = ['Double ML (DML)']+ np.array(DML.summary).reshape(-1).tolist()\n",
    "table.add_row(a)\n",
    "table.float_format = '0.3'\n",
    "print(table)"
   ]
  },
  {
   "cell_type": "code",
   "execution_count": null,
   "id": "baa5d2fa",
   "metadata": {},
   "outputs": [],
   "source": []
  }
 ],
 "metadata": {
  "kernelspec": {
   "display_name": "Python 3 (ipykernel)",
   "language": "python",
   "name": "python3"
  },
  "language_info": {
   "codemirror_mode": {
    "name": "ipython",
    "version": 3
   },
   "file_extension": ".py",
   "mimetype": "text/x-python",
   "name": "python",
   "nbconvert_exporter": "python",
   "pygments_lexer": "ipython3",
   "version": "3.10.8"
  }
 },
 "nbformat": 4,
 "nbformat_minor": 5
}
