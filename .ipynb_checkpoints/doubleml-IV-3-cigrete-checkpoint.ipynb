{
 "cells": [
  {
   "cell_type": "code",
   "execution_count": 1,
   "id": "cbc5a055",
   "metadata": {},
   "outputs": [],
   "source": [
    "import numpy as np\n",
    "import pandas as pd\n",
    "from doubleml.datasets import fetch_bonus\n",
    "from doubleml import DoubleMLData\n",
    "import statsmodels.api as sm\n",
    "from sklearn.base import clone\n",
    "from sklearn.ensemble import RandomForestRegressor, RandomForestClassifier\n",
    "from sklearn.linear_model import LassoCV\n",
    "from doubleml import DoubleMLPLR   \n",
    "from doubleml import DoubleMLPLR  ,DoubleMLPLIV         \n",
    "from prettytable import PrettyTable\n",
    "from PIL import Image, ImageDraw, ImageFont\n",
    "from sklearn.linear_model import LinearRegression, LogisticRegression\n",
    "from doubleml.datasets import fetch_401K\n",
    "import wooldridge"
   ]
  },
  {
   "cell_type": "code",
   "execution_count": 11,
   "id": "7e543a8d",
   "metadata": {},
   "outputs": [],
   "source": [
    "df = wooldridge.data('card')"
   ]
  },
  {
   "cell_type": "code",
   "execution_count": 14,
   "id": "d0279147",
   "metadata": {},
   "outputs": [],
   "source": [
    "df = df[['lwage','nearc2', 'nearc4' ,'age', 'married', 'smsa', 'educ' ]].dropna()"
   ]
  },
  {
   "cell_type": "code",
   "execution_count": 15,
   "id": "ba0dcabc",
   "metadata": {},
   "outputs": [
    {
     "name": "stdout",
     "output_type": "stream",
     "text": [
      "(3003,) (3003, 3) (3003,) (3003, 2)\n"
     ]
    }
   ],
   "source": [
    "np.random.seed(1)\n",
    "df.head(5)\n",
    "y = df['lwage']\n",
    "d = df['educ']\n",
    "x = df[['age', 'married', 'smsa']]\n",
    "z = df[['nearc2', 'nearc4']]\n",
    "\n",
    "l = RandomForestRegressor(n_estimators = 500, max_features = 'sqrt', max_depth= 5)\n",
    "g = clone(l)\n",
    "m = RandomForestClassifier(n_estimators = 500, max_features = 'sqrt', max_depth= 5)\n",
    "r = RandomForestRegressor(n_estimators = 500, max_features = 'sqrt', max_depth= 5)\n",
    "\n",
    "def score(y, d, l_hat, m_hat, g_hat, smpls):\n",
    "    u_hat = y - g_hat\n",
    "    psi_a = -np.multiply(d, d)\n",
    "    psi_b = np.multiply(d, u_hat)\n",
    "    return psi_a, psi_b\n",
    "\n",
    "print(y.shape, x.shape, d.shape, z.shape)"
   ]
  },
  {
   "cell_type": "code",
   "execution_count": 27,
   "id": "7e12e9df",
   "metadata": {},
   "outputs": [],
   "source": [
    "import statsmodels.api as sm\n",
    "OLS = sm.OLS(y, sm.add_constant(np.c_[d, x])).fit()"
   ]
  },
  {
   "cell_type": "code",
   "execution_count": 17,
   "id": "0691d6cb",
   "metadata": {},
   "outputs": [
    {
     "data": {
      "text/html": [
       "<table class=\"simpletable\">\n",
       "<caption>IV2SLS Regression Results</caption>\n",
       "<tr>\n",
       "  <th>Dep. Variable:</th>          <td>lwage</td>      <th>  R-squared:         </th> <td>  -0.093</td>\n",
       "</tr>\n",
       "<tr>\n",
       "  <th>Model:</th>                 <td>IV2SLS</td>      <th>  Adj. R-squared:    </th> <td>  -0.094</td>\n",
       "</tr>\n",
       "<tr>\n",
       "  <th>Method:</th>               <td>Two Stage</td>    <th>  F-statistic:       </th> <td>   118.4</td>\n",
       "</tr>\n",
       "<tr>\n",
       "  <th></th>                    <td>Least Squares</td>  <th>  Prob (F-statistic):</th> <td>7.21e-94</td>\n",
       "</tr>\n",
       "<tr>\n",
       "  <th>Date:</th>             <td>Tue, 13 Dec 2022</td> <th>                     </th>     <td> </td>   \n",
       "</tr>\n",
       "<tr>\n",
       "  <th>Time:</th>                 <td>12:19:59</td>     <th>                     </th>     <td> </td>   \n",
       "</tr>\n",
       "<tr>\n",
       "  <th>No. Observations:</th>      <td>  3003</td>      <th>                     </th>     <td> </td>   \n",
       "</tr>\n",
       "<tr>\n",
       "  <th>Df Residuals:</th>          <td>  2998</td>      <th>                     </th>     <td> </td>   \n",
       "</tr>\n",
       "<tr>\n",
       "  <th>Df Model:</th>              <td>     4</td>      <th>                     </th>     <td> </td>   \n",
       "</tr>\n",
       "</table>\n",
       "<table class=\"simpletable\">\n",
       "<tr>\n",
       "     <td></td>        <th>coef</th>     <th>std err</th>      <th>t</th>      <th>P>|t|</th>  <th>[0.025</th>    <th>0.975]</th>  \n",
       "</tr>\n",
       "<tr>\n",
       "  <th>const</th>   <td>    3.3827</td> <td>    0.465</td> <td>    7.275</td> <td> 0.000</td> <td>    2.471</td> <td>    4.294</td>\n",
       "</tr>\n",
       "<tr>\n",
       "  <th>educ</th>    <td>    0.1473</td> <td>    0.038</td> <td>    3.908</td> <td> 0.000</td> <td>    0.073</td> <td>    0.221</td>\n",
       "</tr>\n",
       "<tr>\n",
       "  <th>age</th>     <td>    0.0345</td> <td>    0.003</td> <td>   12.389</td> <td> 0.000</td> <td>    0.029</td> <td>    0.040</td>\n",
       "</tr>\n",
       "<tr>\n",
       "  <th>married</th> <td>   -0.0479</td> <td>    0.005</td> <td>   -9.454</td> <td> 0.000</td> <td>   -0.058</td> <td>   -0.038</td>\n",
       "</tr>\n",
       "<tr>\n",
       "  <th>smsa</th>    <td>    0.0900</td> <td>    0.045</td> <td>    1.998</td> <td> 0.046</td> <td>    0.002</td> <td>    0.178</td>\n",
       "</tr>\n",
       "</table>\n",
       "<table class=\"simpletable\">\n",
       "<tr>\n",
       "  <th>Omnibus:</th>       <td>20.554</td> <th>  Durbin-Watson:     </th> <td>   1.849</td>\n",
       "</tr>\n",
       "<tr>\n",
       "  <th>Prob(Omnibus):</th> <td> 0.000</td> <th>  Jarque-Bera (JB):  </th> <td>  23.283</td>\n",
       "</tr>\n",
       "<tr>\n",
       "  <th>Skew:</th>          <td>-0.146</td> <th>  Prob(JB):          </th> <td>8.79e-06</td>\n",
       "</tr>\n",
       "<tr>\n",
       "  <th>Kurtosis:</th>      <td> 3.318</td> <th>  Cond. No.          </th> <td>    337.</td>\n",
       "</tr>\n",
       "</table>"
      ],
      "text/plain": [
       "<class 'statsmodels.iolib.summary.Summary'>\n",
       "\"\"\"\n",
       "                          IV2SLS Regression Results                           \n",
       "==============================================================================\n",
       "Dep. Variable:                  lwage   R-squared:                      -0.093\n",
       "Model:                         IV2SLS   Adj. R-squared:                 -0.094\n",
       "Method:                     Two Stage   F-statistic:                     118.4\n",
       "                        Least Squares   Prob (F-statistic):           7.21e-94\n",
       "Date:                Tue, 13 Dec 2022                                         \n",
       "Time:                        12:19:59                                         \n",
       "No. Observations:                3003                                         \n",
       "Df Residuals:                    2998                                         \n",
       "Df Model:                           4                                         \n",
       "==============================================================================\n",
       "                 coef    std err          t      P>|t|      [0.025      0.975]\n",
       "------------------------------------------------------------------------------\n",
       "const          3.3827      0.465      7.275      0.000       2.471       4.294\n",
       "educ           0.1473      0.038      3.908      0.000       0.073       0.221\n",
       "age            0.0345      0.003     12.389      0.000       0.029       0.040\n",
       "married       -0.0479      0.005     -9.454      0.000      -0.058      -0.038\n",
       "smsa           0.0900      0.045      1.998      0.046       0.002       0.178\n",
       "==============================================================================\n",
       "Omnibus:                       20.554   Durbin-Watson:                   1.849\n",
       "Prob(Omnibus):                  0.000   Jarque-Bera (JB):               23.283\n",
       "Skew:                          -0.146   Prob(JB):                     8.79e-06\n",
       "Kurtosis:                       3.318   Cond. No.                         337.\n",
       "==============================================================================\n",
       "\"\"\""
      ]
     },
     "execution_count": 17,
     "metadata": {},
     "output_type": "execute_result"
    }
   ],
   "source": [
    "from statsmodels.sandbox.regression.gmm import IV2SLS\n",
    "endog = df['lwage']\n",
    "exog =  df[['educ', 'age', 'married', 'smsa']]\n",
    "instr = df[['nearc2', 'nearc4' ,'age', 'married', 'smsa']]\n",
    "exog_constant = sm.add_constant(exog)\n",
    "instr_constant = sm.add_constant(instr)\n",
    "IV2SLS = IV2SLS(endog, exog_constant, instrument = instr_constant).fit()\n",
    "IV2SLS.summary()\n"
   ]
  },
  {
   "cell_type": "code",
   "execution_count": 23,
   "id": "0db6b608",
   "metadata": {},
   "outputs": [
    {
     "name": "stderr",
     "output_type": "stream",
     "text": [
      "/usr/local/lib/python3.10/site-packages/doubleml/double_ml.py:953: UserWarning: Learner provided for ml_m is probably invalid: RandomForestClassifier(max_depth=5, n_estimators=500) is (probably) no regressor.\n",
      "  warnings.warn(warn_msg_prefix + f'{str(learner)} is (probably) no regressor.')\n"
     ]
    }
   ],
   "source": [
    "data = DoubleMLData(df.sample(int(df.shape[0]*0.8)), 'lwage', 'educ', z_cols=['nearc2', 'nearc4'])\n",
    "SML = DoubleMLPLIV(data, l,m,g,r, n_folds=1,apply_cross_fitting=False,score=score)\n",
    "#SML.fit();"
   ]
  },
  {
   "cell_type": "code",
   "execution_count": 25,
   "id": "4c886179",
   "metadata": {},
   "outputs": [
    {
     "name": "stderr",
     "output_type": "stream",
     "text": [
      "/usr/local/lib/python3.10/site-packages/doubleml/double_ml.py:953: UserWarning: Learner provided for ml_m is probably invalid: RandomForestClassifier(max_depth=5, n_estimators=500) is (probably) no regressor.\n",
      "  warnings.warn(warn_msg_prefix + f'{str(learner)} is (probably) no regressor.')\n",
      "/usr/local/lib/python3.10/site-packages/doubleml/double_ml_pliv.py:153: UserWarning: A learner ml_g has been provided for score = \"partialling out\" but will be ignored. \"A learner ml_g is not required for estimation.\n",
      "  warnings.warn(('A learner ml_g has been provided for score = \"partialling out\" but will be ignored. \"'\n"
     ]
    }
   ],
   "source": [
    "data = DoubleMLData(df.sample(int(df.shape[0]*0.8)), 'lwage', 'educ', z_cols=['nearc2', 'nearc4'])\n",
    "OML = DoubleMLPLIV(data,l,m,g,r, n_folds=1,apply_cross_fitting=False)\n",
    "#OML.fit();"
   ]
  },
  {
   "cell_type": "code",
   "execution_count": 26,
   "id": "2b5dc3b3",
   "metadata": {},
   "outputs": [
    {
     "name": "stderr",
     "output_type": "stream",
     "text": [
      "/usr/local/lib/python3.10/site-packages/doubleml/double_ml.py:953: UserWarning: Learner provided for ml_m is probably invalid: RandomForestClassifier(max_depth=5, n_estimators=500) is (probably) no regressor.\n",
      "  warnings.warn(warn_msg_prefix + f'{str(learner)} is (probably) no regressor.')\n",
      "/usr/local/lib/python3.10/site-packages/doubleml/double_ml_pliv.py:153: UserWarning: A learner ml_g has been provided for score = \"partialling out\" but will be ignored. \"A learner ml_g is not required for estimation.\n",
      "  warnings.warn(('A learner ml_g has been provided for score = \"partialling out\" but will be ignored. \"'\n"
     ]
    }
   ],
   "source": [
    "data = DoubleMLData(df.sample(int(df.shape[0]*1)), 'lwage', 'educ', z_cols=['nearc2', 'nearc4'])\n",
    "DML = DoubleMLPLIV(data, l,m,g,r, n_folds=5,apply_cross_fitting=True)\n",
    "DML.fit();"
   ]
  },
  {
   "cell_type": "code",
   "execution_count": 28,
   "id": "5b13036a",
   "metadata": {},
   "outputs": [
    {
     "name": "stdout",
     "output_type": "stream",
     "text": [
      "+----------------------------------+-------+-----------+--------+-------+-------+--------+\n",
      "|            Estimator             | θ_hat | Std Error |   t    |   p   |  2.5% | 97.25% |\n",
      "+----------------------------------+-------+-----------+--------+-------+-------+--------+\n",
      "|               OLS                | 0.048 |   0.003   | 18.122 | 0.000 |  nan  |  nan   |\n",
      "|             IV-2SLS              | 0.147 |   0.038   | 3.908  | 0.000 |  nan  |  nan   |\n",
      "| Orthogonal+Crossfitting ML (DML) | 0.166 |   0.054   | 3.061  | 0.002 | 0.060 | 0.272  |\n",
      "+----------------------------------+-------+-----------+--------+-------+-------+--------+\n"
     ]
    }
   ],
   "source": [
    "table = PrettyTable()\n",
    "table.field_names = ['Estimator', 'θ_hat', 'Std Error','t','p','2.5%','97.25%']\n",
    "a = ['OLS']+ np.c_[OLS.params[1], OLS.bse[1], OLS.tvalues[1], OLS.pvalues[1], np.nan, np.nan].reshape(-1).tolist()\n",
    "table.add_row(a)\n",
    "a = ['IV-2SLS']+ np.c_[IV2SLS.params[1], IV2SLS.bse[1], IV2SLS.tvalues[1], IV2SLS.pvalues[1], np.nan, np.nan].reshape(-1).tolist()\n",
    "table.add_row(a)\n",
    "#a = ['Naive/Single ML (SML)']+ np.array(SML.summary).reshape(-1).tolist()\n",
    "#table.add_row(a)\n",
    "#a = ['Orthogonal ML (OML)']+ np.array(OML.summary).reshape(-1).tolist()\n",
    "#table.add_row(a)\n",
    "a = ['Orthogonal+Crossfitting ML (DML)']+ np.array(DML.summary).reshape(-1).tolist()\n",
    "table.add_row(a)\n",
    "table.float_format = '0.3'\n",
    "print(table)"
   ]
  },
  {
   "cell_type": "code",
   "execution_count": null,
   "id": "11a7febb",
   "metadata": {},
   "outputs": [],
   "source": []
  }
 ],
 "metadata": {
  "kernelspec": {
   "display_name": "Python 3 (ipykernel)",
   "language": "python",
   "name": "python3"
  },
  "language_info": {
   "codemirror_mode": {
    "name": "ipython",
    "version": 3
   },
   "file_extension": ".py",
   "mimetype": "text/x-python",
   "name": "python",
   "nbconvert_exporter": "python",
   "pygments_lexer": "ipython3",
   "version": "3.10.8"
  }
 },
 "nbformat": 4,
 "nbformat_minor": 5
}
