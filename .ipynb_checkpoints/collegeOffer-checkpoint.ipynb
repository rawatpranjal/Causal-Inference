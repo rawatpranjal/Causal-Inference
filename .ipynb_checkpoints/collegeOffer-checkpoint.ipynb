{
 "cells": [
  {
   "cell_type": "markdown",
   "id": "bc8bc1d0",
   "metadata": {},
   "source": [
    "# Packages"
   ]
  },
  {
   "cell_type": "code",
   "execution_count": 4,
   "id": "cbc5a055",
   "metadata": {},
   "outputs": [],
   "source": [
    "import numpy as np\n",
    "import pandas as pd\n",
    "from doubleml.datasets import fetch_bonus, fetch_401K\n",
    "from doubleml import DoubleMLData\n",
    "import statsmodels.api as sm\n",
    "from sklearn.base import clone\n",
    "from sklearn.ensemble import RandomForestRegressor, RandomForestClassifier\n",
    "from sklearn.linear_model import LassoCV\n",
    "from doubleml import DoubleMLPLR\n",
    "from doubleml import DoubleMLPLR\n",
    "from prettytable import PrettyTable\n",
    "from PIL import Image, ImageDraw, ImageFont\n",
    "from sklearn.linear_model import LinearRegression, LogisticRegression, LassoCV, LogisticRegressionCV\n",
    "from sklearn.neural_network import MLPRegressor, MLPClassifier\n",
    "from catboost import CatBoostRegressor, CatBoostClassifier\n",
    "from xgboost import XGBRegressor, XGBClassifier\n",
    "from sklearn.preprocessing import normalize\n",
    "from sklearn.model_selection import cross_val_score\n",
    "import warnings\n",
    "warnings.filterwarnings('ignore')\n",
    "np.random.seed(3293423)"
   ]
  },
  {
   "cell_type": "markdown",
   "id": "3e3ea0e8",
   "metadata": {},
   "source": [
    "# Load the Data"
   ]
  },
  {
   "cell_type": "code",
   "execution_count": 5,
   "id": "ba0dcabc",
   "metadata": {},
   "outputs": [
    {
     "data": {
      "text/html": [
       "<div>\n",
       "<style scoped>\n",
       "    .dataframe tbody tr th:only-of-type {\n",
       "        vertical-align: middle;\n",
       "    }\n",
       "\n",
       "    .dataframe tbody tr th {\n",
       "        vertical-align: top;\n",
       "    }\n",
       "\n",
       "    .dataframe thead th {\n",
       "        text-align: right;\n",
       "    }\n",
       "</style>\n",
       "<table border=\"1\" class=\"dataframe\">\n",
       "  <thead>\n",
       "    <tr style=\"text-align: right;\">\n",
       "      <th></th>\n",
       "      <th>nifa</th>\n",
       "      <th>net_tfa</th>\n",
       "      <th>tw</th>\n",
       "      <th>age</th>\n",
       "      <th>inc</th>\n",
       "      <th>fsize</th>\n",
       "      <th>educ</th>\n",
       "      <th>db</th>\n",
       "      <th>marr</th>\n",
       "      <th>twoearn</th>\n",
       "      <th>e401</th>\n",
       "      <th>p401</th>\n",
       "      <th>pira</th>\n",
       "      <th>hown</th>\n",
       "    </tr>\n",
       "  </thead>\n",
       "  <tbody>\n",
       "    <tr>\n",
       "      <th>0</th>\n",
       "      <td>0.0</td>\n",
       "      <td>0.0</td>\n",
       "      <td>4500.0</td>\n",
       "      <td>47</td>\n",
       "      <td>6765.0</td>\n",
       "      <td>2</td>\n",
       "      <td>8</td>\n",
       "      <td>0</td>\n",
       "      <td>0</td>\n",
       "      <td>0</td>\n",
       "      <td>0</td>\n",
       "      <td>0</td>\n",
       "      <td>0</td>\n",
       "      <td>1</td>\n",
       "    </tr>\n",
       "    <tr>\n",
       "      <th>1</th>\n",
       "      <td>6215.0</td>\n",
       "      <td>1015.0</td>\n",
       "      <td>22390.0</td>\n",
       "      <td>36</td>\n",
       "      <td>28452.0</td>\n",
       "      <td>1</td>\n",
       "      <td>16</td>\n",
       "      <td>0</td>\n",
       "      <td>0</td>\n",
       "      <td>0</td>\n",
       "      <td>0</td>\n",
       "      <td>0</td>\n",
       "      <td>0</td>\n",
       "      <td>1</td>\n",
       "    </tr>\n",
       "    <tr>\n",
       "      <th>2</th>\n",
       "      <td>0.0</td>\n",
       "      <td>-2000.0</td>\n",
       "      <td>-2000.0</td>\n",
       "      <td>37</td>\n",
       "      <td>3300.0</td>\n",
       "      <td>6</td>\n",
       "      <td>12</td>\n",
       "      <td>1</td>\n",
       "      <td>0</td>\n",
       "      <td>0</td>\n",
       "      <td>0</td>\n",
       "      <td>0</td>\n",
       "      <td>0</td>\n",
       "      <td>0</td>\n",
       "    </tr>\n",
       "    <tr>\n",
       "      <th>3</th>\n",
       "      <td>15000.0</td>\n",
       "      <td>15000.0</td>\n",
       "      <td>155000.0</td>\n",
       "      <td>58</td>\n",
       "      <td>52590.0</td>\n",
       "      <td>2</td>\n",
       "      <td>16</td>\n",
       "      <td>0</td>\n",
       "      <td>1</td>\n",
       "      <td>1</td>\n",
       "      <td>0</td>\n",
       "      <td>0</td>\n",
       "      <td>0</td>\n",
       "      <td>1</td>\n",
       "    </tr>\n",
       "    <tr>\n",
       "      <th>4</th>\n",
       "      <td>0.0</td>\n",
       "      <td>0.0</td>\n",
       "      <td>58000.0</td>\n",
       "      <td>32</td>\n",
       "      <td>21804.0</td>\n",
       "      <td>1</td>\n",
       "      <td>11</td>\n",
       "      <td>0</td>\n",
       "      <td>0</td>\n",
       "      <td>0</td>\n",
       "      <td>0</td>\n",
       "      <td>0</td>\n",
       "      <td>0</td>\n",
       "      <td>1</td>\n",
       "    </tr>\n",
       "  </tbody>\n",
       "</table>\n",
       "</div>"
      ],
      "text/plain": [
       "      nifa  net_tfa        tw  age      inc  fsize  educ  db  marr  twoearn  \\\n",
       "0      0.0      0.0    4500.0   47   6765.0      2     8   0     0        0   \n",
       "1   6215.0   1015.0   22390.0   36  28452.0      1    16   0     0        0   \n",
       "2      0.0  -2000.0   -2000.0   37   3300.0      6    12   1     0        0   \n",
       "3  15000.0  15000.0  155000.0   58  52590.0      2    16   0     1        1   \n",
       "4      0.0      0.0   58000.0   32  21804.0      1    11   0     0        0   \n",
       "\n",
       "   e401  p401  pira  hown  \n",
       "0     0     0     0     1  \n",
       "1     0     0     0     1  \n",
       "2     0     0     0     0  \n",
       "3     0     0     0     1  \n",
       "4     0     0     0     1  "
      ]
     },
     "execution_count": 5,
     "metadata": {},
     "output_type": "execute_result"
    }
   ],
   "source": [
    "np.random.seed(1)\n",
    "df = fetch_401K('DataFrame')\n",
    "df.head(5)"
   ]
  },
  {
   "cell_type": "code",
   "execution_count": 7,
   "id": "56243de7",
   "metadata": {},
   "outputs": [
    {
     "data": {
      "text/plain": [
       "Index(['nifa', 'net_tfa', 'tw', 'age', 'inc', 'fsize', 'educ', 'db', 'marr',\n",
       "       'twoearn', 'e401', 'p401', 'pira', 'hown'],\n",
       "      dtype='object')"
      ]
     },
     "execution_count": 7,
     "metadata": {},
     "output_type": "execute_result"
    }
   ],
   "source": [
    "df.columns"
   ]
  },
  {
   "cell_type": "code",
   "execution_count": 6,
   "id": "dcefa355",
   "metadata": {
    "scrolled": true
   },
   "outputs": [
    {
     "name": "stdout",
     "output_type": "stream",
     "text": [
      "nifa       0\n",
      "net_tfa    0\n",
      "tw         0\n",
      "age        0\n",
      "inc        0\n",
      "fsize      0\n",
      "educ       0\n",
      "db         0\n",
      "marr       0\n",
      "twoearn    0\n",
      "e401       0\n",
      "p401       0\n",
      "pira       0\n",
      "hown       0\n",
      "dtype: int64\n"
     ]
    }
   ],
   "source": [
    "print(df.isnull().sum())"
   ]
  },
  {
   "cell_type": "code",
   "execution_count": 9,
   "id": "fe1221d5",
   "metadata": {},
   "outputs": [
    {
     "name": "stdout",
     "output_type": "stream",
     "text": [
      "(9915, 1) (9915, 1) (9915, 9)\n"
     ]
    }
   ],
   "source": [
    "outcome = 'net_tfa'\n",
    "treatment = 'e401'\n",
    "rest = ['age', 'inc', 'educ', 'fsize', 'marr', 'twoearn', 'db', 'pira', 'hown']\n",
    "df = df[[outcome] + [treatment] + rest]\n",
    "y = np.array(df.net_tfa).reshape(-1, 1)\n",
    "d = np.array(df.e401).astype(int).reshape(-1, 1)\n",
    "x = np.array(df[rest])\n",
    "print(y.shape, d.shape, x.shape)"
   ]
  },
  {
   "cell_type": "markdown",
   "id": "b8448830",
   "metadata": {},
   "source": [
    "# First Stage"
   ]
  },
  {
   "cell_type": "code",
   "execution_count": 10,
   "id": "e42a800c",
   "metadata": {},
   "outputs": [
    {
     "name": "stdout",
     "output_type": "stream",
     "text": [
      "+-----------------------+---------------+---------------+\n",
      "|       Estimator       | g(X):Rsquared | m(X):Accuracy |\n",
      "+-----------------------+---------------+---------------+\n",
      "|    Linear/Logistic    |     0.179     |     0.654     |\n",
      "| Linear/Logistic (Reg) |     0.091     |     0.657     |\n",
      "|     Random Forests    |     0.174     |     0.691     |\n",
      "|        Boosting       |     0.047     |     0.674     |\n",
      "|    Neural Networks    |     -0.083    |     0.651     |\n",
      "+-----------------------+---------------+---------------+\n"
     ]
    }
   ],
   "source": [
    "np.random.seed(42)\n",
    "table = PrettyTable()\n",
    "table.field_names = ['Estimator', 'g(X):Rsquared', 'm(X):Accuracy']\n",
    "a = ['Linear/Logistic',np.mean(cross_val_score(LinearRegression(), x, y, cv=5)),np.mean(cross_val_score(LogisticRegression(), x, d, cv=5))]\n",
    "table.add_row(a)\n",
    "a = ['Linear/Logistic (Reg)',np.mean(cross_val_score(LassoCV(), x, y, cv=5)),np.mean(cross_val_score(LogisticRegressionCV(), x, d, cv=5))]\n",
    "table.add_row(a)\n",
    "a = ['Random Forests',np.mean(cross_val_score(RandomForestRegressor(max_depth=5,n_estimators=500,verbose=0), x, y, cv=5)),np.mean(cross_val_score(RandomForestClassifier(max_depth=5), x, d, cv=5))]\n",
    "table.add_row(a)\n",
    "a = ['Boosting',np.mean(cross_val_score(XGBRegressor(max_depth=3,verbosity=0), x, y, cv=5)),np.mean(cross_val_score(XGBClassifier(verbosity=0,max_depth=5), x, d, cv=5))]\n",
    "table.add_row(a)\n",
    "a = ['Neural Networks',np.mean(cross_val_score(MLPRegressor((5,2,), activation = 'tanh', max_iter=500, learning_rate_init=0.01), normalize(x), y, cv=5)),np.mean(cross_val_score(MLPClassifier((5,2,), activation = 'tanh', max_iter=500,learning_rate_init=0.01), normalize(x), d, cv=5))]\n",
    "table.add_row(a)\n",
    "table.float_format = '0.3'\n",
    "print(table)"
   ]
  },
  {
   "cell_type": "markdown",
   "id": "74745986",
   "metadata": {},
   "source": [
    "# OLS"
   ]
  },
  {
   "cell_type": "code",
   "execution_count": 11,
   "id": "0691d6cb",
   "metadata": {},
   "outputs": [
    {
     "data": {
      "text/html": [
       "<table class=\"simpletable\">\n",
       "<caption>OLS Regression Results</caption>\n",
       "<tr>\n",
       "  <th>Dep. Variable:</th>            <td>y</td>        <th>  R-squared:         </th>  <td>   0.231</td>  \n",
       "</tr>\n",
       "<tr>\n",
       "  <th>Model:</th>                   <td>OLS</td>       <th>  Adj. R-squared:    </th>  <td>   0.230</td>  \n",
       "</tr>\n",
       "<tr>\n",
       "  <th>Method:</th>             <td>Least Squares</td>  <th>  F-statistic:       </th>  <td>   297.8</td>  \n",
       "</tr>\n",
       "<tr>\n",
       "  <th>Date:</th>             <td>Thu, 15 Dec 2022</td> <th>  Prob (F-statistic):</th>   <td>  0.00</td>   \n",
       "</tr>\n",
       "<tr>\n",
       "  <th>Time:</th>                 <td>04:13:59</td>     <th>  Log-Likelihood:    </th> <td>-1.2242e+05</td>\n",
       "</tr>\n",
       "<tr>\n",
       "  <th>No. Observations:</th>      <td>  9915</td>      <th>  AIC:               </th>  <td>2.449e+05</td> \n",
       "</tr>\n",
       "<tr>\n",
       "  <th>Df Residuals:</th>          <td>  9904</td>      <th>  BIC:               </th>  <td>2.449e+05</td> \n",
       "</tr>\n",
       "<tr>\n",
       "  <th>Df Model:</th>              <td>    10</td>      <th>                     </th>      <td> </td>     \n",
       "</tr>\n",
       "<tr>\n",
       "  <th>Covariance Type:</th>      <td>nonrobust</td>    <th>                     </th>      <td> </td>     \n",
       "</tr>\n",
       "</table>\n",
       "<table class=\"simpletable\">\n",
       "<tr>\n",
       "    <td></td>       <th>coef</th>     <th>std err</th>      <th>t</th>      <th>P>|t|</th>  <th>[0.025</th>    <th>0.975]</th>  \n",
       "</tr>\n",
       "<tr>\n",
       "  <th>const</th> <td>-3.291e+04</td> <td> 4276.223</td> <td>   -7.695</td> <td> 0.000</td> <td>-4.13e+04</td> <td>-2.45e+04</td>\n",
       "</tr>\n",
       "<tr>\n",
       "  <th>x1</th>    <td> 5896.1984</td> <td> 1250.014</td> <td>    4.717</td> <td> 0.000</td> <td> 3445.917</td> <td> 8346.480</td>\n",
       "</tr>\n",
       "<tr>\n",
       "  <th>x2</th>    <td>  624.1455</td> <td>   59.521</td> <td>   10.486</td> <td> 0.000</td> <td>  507.472</td> <td>  740.819</td>\n",
       "</tr>\n",
       "<tr>\n",
       "  <th>x3</th>    <td>    0.9357</td> <td>    0.030</td> <td>   30.982</td> <td> 0.000</td> <td>    0.876</td> <td>    0.995</td>\n",
       "</tr>\n",
       "<tr>\n",
       "  <th>x4</th>    <td> -639.7538</td> <td>  228.499</td> <td>   -2.800</td> <td> 0.005</td> <td>-1087.659</td> <td> -191.848</td>\n",
       "</tr>\n",
       "<tr>\n",
       "  <th>x5</th>    <td>-1018.7979</td> <td>  449.859</td> <td>   -2.265</td> <td> 0.024</td> <td>-1900.614</td> <td> -136.982</td>\n",
       "</tr>\n",
       "<tr>\n",
       "  <th>x6</th>    <td>  743.3445</td> <td> 1795.556</td> <td>    0.414</td> <td> 0.679</td> <td>-2776.310</td> <td> 4262.999</td>\n",
       "</tr>\n",
       "<tr>\n",
       "  <th>x7</th>    <td>-1.923e+04</td> <td> 1576.431</td> <td>  -12.196</td> <td> 0.000</td> <td>-2.23e+04</td> <td>-1.61e+04</td>\n",
       "</tr>\n",
       "<tr>\n",
       "  <th>x8</th>    <td>-4904.5684</td> <td> 1359.098</td> <td>   -3.609</td> <td> 0.000</td> <td>-7568.677</td> <td>-2240.460</td>\n",
       "</tr>\n",
       "<tr>\n",
       "  <th>x9</th>    <td> 2.953e+04</td> <td> 1465.830</td> <td>   20.148</td> <td> 0.000</td> <td> 2.67e+04</td> <td> 3.24e+04</td>\n",
       "</tr>\n",
       "<tr>\n",
       "  <th>x10</th>   <td> 1185.2564</td> <td> 1323.687</td> <td>    0.895</td> <td> 0.371</td> <td>-1409.439</td> <td> 3779.952</td>\n",
       "</tr>\n",
       "</table>\n",
       "<table class=\"simpletable\">\n",
       "<tr>\n",
       "  <th>Omnibus:</th>       <td>16589.925</td> <th>  Durbin-Watson:     </th>   <td>   1.992</td>  \n",
       "</tr>\n",
       "<tr>\n",
       "  <th>Prob(Omnibus):</th>  <td> 0.000</td>   <th>  Jarque-Bera (JB):  </th> <td>19604641.129</td>\n",
       "</tr>\n",
       "<tr>\n",
       "  <th>Skew:</th>           <td>11.217</td>   <th>  Prob(JB):          </th>   <td>    0.00</td>  \n",
       "</tr>\n",
       "<tr>\n",
       "  <th>Kurtosis:</th>       <td>219.682</td>  <th>  Cond. No.          </th>   <td>3.43e+05</td>  \n",
       "</tr>\n",
       "</table><br/><br/>Notes:<br/>[1] Standard Errors assume that the covariance matrix of the errors is correctly specified.<br/>[2] The condition number is large, 3.43e+05. This might indicate that there are<br/>strong multicollinearity or other numerical problems."
      ],
      "text/plain": [
       "<class 'statsmodels.iolib.summary.Summary'>\n",
       "\"\"\"\n",
       "                            OLS Regression Results                            \n",
       "==============================================================================\n",
       "Dep. Variable:                      y   R-squared:                       0.231\n",
       "Model:                            OLS   Adj. R-squared:                  0.230\n",
       "Method:                 Least Squares   F-statistic:                     297.8\n",
       "Date:                Thu, 15 Dec 2022   Prob (F-statistic):               0.00\n",
       "Time:                        04:13:59   Log-Likelihood:            -1.2242e+05\n",
       "No. Observations:                9915   AIC:                         2.449e+05\n",
       "Df Residuals:                    9904   BIC:                         2.449e+05\n",
       "Df Model:                          10                                         \n",
       "Covariance Type:            nonrobust                                         \n",
       "==============================================================================\n",
       "                 coef    std err          t      P>|t|      [0.025      0.975]\n",
       "------------------------------------------------------------------------------\n",
       "const      -3.291e+04   4276.223     -7.695      0.000   -4.13e+04   -2.45e+04\n",
       "x1          5896.1984   1250.014      4.717      0.000    3445.917    8346.480\n",
       "x2           624.1455     59.521     10.486      0.000     507.472     740.819\n",
       "x3             0.9357      0.030     30.982      0.000       0.876       0.995\n",
       "x4          -639.7538    228.499     -2.800      0.005   -1087.659    -191.848\n",
       "x5         -1018.7979    449.859     -2.265      0.024   -1900.614    -136.982\n",
       "x6           743.3445   1795.556      0.414      0.679   -2776.310    4262.999\n",
       "x7         -1.923e+04   1576.431    -12.196      0.000   -2.23e+04   -1.61e+04\n",
       "x8         -4904.5684   1359.098     -3.609      0.000   -7568.677   -2240.460\n",
       "x9          2.953e+04   1465.830     20.148      0.000    2.67e+04    3.24e+04\n",
       "x10         1185.2564   1323.687      0.895      0.371   -1409.439    3779.952\n",
       "==============================================================================\n",
       "Omnibus:                    16589.925   Durbin-Watson:                   1.992\n",
       "Prob(Omnibus):                  0.000   Jarque-Bera (JB):         19604641.129\n",
       "Skew:                          11.217   Prob(JB):                         0.00\n",
       "Kurtosis:                     219.682   Cond. No.                     3.43e+05\n",
       "==============================================================================\n",
       "\n",
       "Notes:\n",
       "[1] Standard Errors assume that the covariance matrix of the errors is correctly specified.\n",
       "[2] The condition number is large, 3.43e+05. This might indicate that there are\n",
       "strong multicollinearity or other numerical problems.\n",
       "\"\"\""
      ]
     },
     "execution_count": 11,
     "metadata": {},
     "output_type": "execute_result"
    }
   ],
   "source": [
    "OLS = sm.OLS(y,sm.add_constant(np.c_[d,x])).fit()\n",
    "OLS.summary()"
   ]
  },
  {
   "cell_type": "markdown",
   "id": "ae0712ed",
   "metadata": {},
   "source": [
    "# ML Estimation"
   ]
  },
  {
   "cell_type": "code",
   "execution_count": 12,
   "id": "25c4d154",
   "metadata": {},
   "outputs": [],
   "source": [
    "l = RandomForestRegressor(max_depth=5,n_estimators=500,verbose=0) # Model for E[Y|X]=E[θD+g(X)]\n",
    "g = RandomForestRegressor(max_depth=5,n_estimators=500,verbose=0) # Model for E[Y - θD|X]=g(X)\n",
    "m = RandomForestClassifier(max_depth=5,n_estimators=500,verbose=0) # Model for E[D|X]\n",
    "\n",
    "def score(y, d, l_hat, m_hat, g_hat, smpls):\n",
    "    \"Score function for Single ML\"\n",
    "    u_hat = y - g_hat\n",
    "    psi_a = -np.multiply(d, d)\n",
    "    psi_b = np.multiply(d, u_hat)\n",
    "    return psi_a, psi_b"
   ]
  },
  {
   "cell_type": "markdown",
   "id": "e8d63a3a",
   "metadata": {},
   "source": [
    "# Single-ML"
   ]
  },
  {
   "cell_type": "code",
   "execution_count": 13,
   "id": "0db6b608",
   "metadata": {},
   "outputs": [
    {
     "name": "stdout",
     "output_type": "stream",
     "text": [
      "             coef     std err         t         P>|t|        2.5 %  \\\n",
      "e401  9363.611849  944.456697  9.914284  3.608345e-23  7512.510739   \n",
      "\n",
      "           97.5 %  \n",
      "e401  11214.71296  \n"
     ]
    }
   ],
   "source": [
    "data = DoubleMLData(df, y_col=outcome,d_cols=treatment,x_cols=rest)\n",
    "SML = DoubleMLPLR(data, l, m, g, n_folds=1, apply_cross_fitting=False, score=score)\n",
    "SML.fit()\n",
    "print(SML.summary)"
   ]
  },
  {
   "cell_type": "markdown",
   "id": "570313ff",
   "metadata": {},
   "source": [
    "# Orthogonal-ML"
   ]
  },
  {
   "cell_type": "code",
   "execution_count": 14,
   "id": "4c886179",
   "metadata": {},
   "outputs": [
    {
     "name": "stdout",
     "output_type": "stream",
     "text": [
      "             coef      std err         t         P>|t|        2.5 %  \\\n",
      "e401  8890.342944  1141.258704  7.789945  6.703818e-15  6653.516988   \n",
      "\n",
      "            97.5 %  \n",
      "e401  11127.168901  \n"
     ]
    }
   ],
   "source": [
    "data = DoubleMLData(df,y_col=outcome,d_cols=treatment,x_cols=rest)\n",
    "OML = DoubleMLPLR(data,l, m, g, n_folds=1,apply_cross_fitting=False,score='IV-type')\n",
    "OML.fit();\n",
    "print(OML.summary)"
   ]
  },
  {
   "cell_type": "markdown",
   "id": "79977e89",
   "metadata": {},
   "source": [
    "# Orthogonal + Crossfitting (DML)"
   ]
  },
  {
   "cell_type": "code",
   "execution_count": 15,
   "id": "2b5dc3b3",
   "metadata": {},
   "outputs": [
    {
     "name": "stdout",
     "output_type": "stream",
     "text": [
      "             coef      std err         t         P>|t|       2.5 %  \\\n",
      "e401  8606.716392  1343.374339  6.406789  1.486159e-10  5973.75107   \n",
      "\n",
      "            97.5 %  \n",
      "e401  11239.681714  \n"
     ]
    }
   ],
   "source": [
    "data = DoubleMLData(df,y_col=outcome,d_cols=treatment,x_cols=rest)\n",
    "DML = DoubleMLPLR(data, l,m,g, n_folds=5,apply_cross_fitting=True,score='IV-type')\n",
    "DML.fit();\n",
    "print(DML.summary)"
   ]
  },
  {
   "cell_type": "markdown",
   "id": "d441e6e9",
   "metadata": {},
   "source": [
    "# Summary"
   ]
  },
  {
   "cell_type": "code",
   "execution_count": 16,
   "id": "5b13036a",
   "metadata": {},
   "outputs": [
    {
     "name": "stdout",
     "output_type": "stream",
     "text": [
      "+---------------------+----------+-----------+-------+-------+----------+-----------+\n",
      "|      Estimator      |  θ_hat   | Std Error |   t   |   p   |   2.5%   |   97.25%  |\n",
      "+---------------------+----------+-----------+-------+-------+----------+-----------+\n",
      "|         OLS         | 5896.198 |  1250.014 | 4.717 | 0.000 |   nan    |    nan    |\n",
      "|   Single ML (SML)   | 9363.612 |  944.457  | 9.914 | 0.000 | 7512.511 | 11214.713 |\n",
      "| Orthogonal ML (OML) | 8890.343 |  1141.259 | 7.790 | 0.000 | 6653.517 | 11127.169 |\n",
      "|   Double ML (DML)   | 8606.716 |  1343.374 | 6.407 | 0.000 | 5973.751 | 11239.682 |\n",
      "+---------------------+----------+-----------+-------+-------+----------+-----------+\n"
     ]
    }
   ],
   "source": [
    "table = PrettyTable()\n",
    "table.field_names = ['Estimator', 'θ_hat', 'Std Error','t','p','2.5%','97.25%']\n",
    "idx = 1\n",
    "a = ['OLS']+ np.c_[OLS.params[idx], OLS.bse[idx], OLS.tvalues[idx], OLS.pvalues[idx], np.nan, np.nan].reshape(-1).tolist()\n",
    "table.add_row(a)\n",
    "a = ['Single ML (SML)']+ np.array(SML.summary).reshape(-1).tolist()\n",
    "table.add_row(a)\n",
    "a = ['Orthogonal ML (OML)']+ np.array(OML.summary).reshape(-1).tolist()\n",
    "table.add_row(a)\n",
    "a = ['Double ML (DML)']+ np.array(DML.summary).reshape(-1).tolist()\n",
    "table.add_row(a)\n",
    "table.float_format = '0.3'\n",
    "print(table)"
   ]
  },
  {
   "cell_type": "code",
   "execution_count": null,
   "id": "9a0def96",
   "metadata": {},
   "outputs": [],
   "source": []
  }
 ],
 "metadata": {
  "kernelspec": {
   "display_name": "Python 3 (ipykernel)",
   "language": "python",
   "name": "python3"
  },
  "language_info": {
   "codemirror_mode": {
    "name": "ipython",
    "version": 3
   },
   "file_extension": ".py",
   "mimetype": "text/x-python",
   "name": "python",
   "nbconvert_exporter": "python",
   "pygments_lexer": "ipython3",
   "version": "3.10.8"
  }
 },
 "nbformat": 4,
 "nbformat_minor": 5
}
