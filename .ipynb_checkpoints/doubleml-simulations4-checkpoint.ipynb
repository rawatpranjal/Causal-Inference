{
 "cells": [
  {
   "cell_type": "code",
   "execution_count": null,
   "id": "b4a5c00c",
   "metadata": {},
   "outputs": [
    {
     "name": "stdout",
     "output_type": "stream",
     "text": [
      "[[-0.08882585  0.          0.47879616]\n",
      " [ 1.4285711   1.          0.46880448]\n",
      " [-1.27308257  0.         -0.49318325]\n",
      " [ 1.19494368  1.          0.51486027]\n",
      " [ 1.2885371   0.         -2.00991515]]\n"
     ]
    },
    {
     "name": "stderr",
     "output_type": "stream",
     "text": [
      "A column-vector y was passed when a 1d array was expected. Please change the shape of y to (n_samples, ), for example using ravel().\n",
      "setting an array element with a sequence. This was supported in some cases where the elements are arrays with a single element. For example `np.array([1, np.array([2])], dtype=int)`. In the future this will raise the same ValueError as `np.array([1, [2]], dtype=int)`.\n",
      "A column-vector y was passed when a 1d array was expected. Please change the shape of y to (n_samples, ), for example using ravel().\n"
     ]
    },
    {
     "name": "stdout",
     "output_type": "stream",
     "text": [
      "[[ 0.52934244  0.         -1.77547902]\n",
      " [ 0.82549056  0.         -1.27832387]\n",
      " [-0.76520271  1.          0.85633372]\n",
      " [ 0.44998307  0.          0.48479845]\n",
      " [-0.54249801  0.          0.05622389]]\n"
     ]
    }
   ],
   "source": [
    "import statsmodels.api as sm\n",
    "import numpy as np\n",
    "from econml.dml import LinearDML\n",
    "from sklearn.ensemble import RandomForestRegressor, RandomForestClassifier\n",
    "from xgboost import XGBClassifier, XGBRegressor\n",
    "from sklearn.model_selection import train_test_split\n",
    "from sklearn.linear_model import LogisticRegression, LinearRegression\n",
    "from sklearn.neural_network import MLPClassifier, MLPRegressor\n",
    "from catboost import CatBoostRegressor, CatBoostClassifier\n",
    "from scipy.stats import logistic\n",
    "\n",
    "MC_N = 50\n",
    "MC_θ = np.zeros((MC_N,4))\n",
    "MC_y = np.zeros((MC_N,4))\n",
    "MC_t = np.zeros((MC_N,4))\n",
    "\n",
    "for j in range(MC_N):\n",
    "    import numpy as np\n",
    "    N = 5000\n",
    "    σ_t = 1\n",
    "    σ_y = 1\n",
    "    σ_x = 1\n",
    "    θ = 0.5 # TRUE ATE\n",
    "    α_t = 0.5\n",
    "    α_y = 0.5\n",
    "    x = np.random.normal(0,σ_x,N)\n",
    "    e_t = np.random.normal(0,σ_t,N)\n",
    "    e_y = np.random.normal(0,σ_y,N)\n",
    "    t = np.random.binomial(1,logistic.cdf(α_t*x))\n",
    "    y = np.power(α_y * x, 2) + θ * t + e_y\n",
    "    x = x.reshape(-1, 1)\n",
    "    y = y.reshape(-1, 1)\n",
    "    t = t.reshape(-1, 1)\n",
    "    data = np.c_[y,t,x]\n",
    "    print(data[0:5])\n",
    "    \n",
    "    # OLS - Full Estimation\n",
    "    model_OLS = sm.OLS(y, np.c_[t,x])\n",
    "    res = model_OLS.fit()\n",
    "    θ_OLS = res.params[0]\n",
    "    # OLS First Stage: Y\n",
    "    model_OLS = sm.OLS(y, np.c_[x])\n",
    "    res_y = model_OLS.fit()\n",
    "    θ_OLS_y = res_y.params[0]    \n",
    "    # Logistic First Stage\n",
    "    clf = LogisticRegression(random_state=0).fit(x, t)\n",
    "    \n",
    "    # DML Lasso\n",
    "    model_Lasso = LinearDML(discrete_treatment=True, random_state=1)\n",
    "    model_Lasso.fit(y, t, X=None,W=x)\n",
    "    θ_DMLL = model_Lasso.intercept_\n",
    "\n",
    "    # DML RF\n",
    "    model_XGB = LinearDML(discrete_treatment=True, \n",
    "                          model_y = CatBoostRegressor(learning_rate=0.01, verbose = False), \n",
    "                          model_t = CatBoostClassifier(learning_rate=0.01, verbose = False))\n",
    "    model_XGB.fit(y.ravel(), t.ravel(), X=None,W=x)\n",
    "    θ_DMLRF = model_XGB.intercept_\n",
    "    \n",
    "    # DML NN - First Stage\n",
    "    model_NN = LinearDML(discrete_treatment=True, \n",
    "                         model_y = MLPRegressor(hidden_layer_sizes=(20,)), \n",
    "                         model_t = MLPClassifier(hidden_layer_sizes=(20,)))\n",
    "    model_NN.fit(y.ravel(), t.ravel(), X=None,W=x)\n",
    "    θ_DMLRF = model_NN.intercept_\n",
    "\n",
    "\n",
    "    MC_θ[j] = [θ_OLS, model_Lasso.intercept_, model_XGB.intercept_, model_NN.intercept_]\n",
    "    MC_y[j] = [res_y.rsquared, np.mean(model_Lasso.nuisance_scores_y), np.mean(model_XGB.nuisance_scores_y),np.mean(model_NN.nuisance_scores_y)]\n",
    "    MC_t[j] = [clf.score(x,t), np.mean(model_Lasso.nuisance_scores_t), np.mean(model_XGB.nuisance_scores_t),np.mean(model_NN.nuisance_scores_t)]\n",
    "    \n",
    "    "
   ]
  },
  {
   "cell_type": "code",
   "execution_count": null,
   "id": "31aebd79",
   "metadata": {},
   "outputs": [],
   "source": [
    "from prettytable import PrettyTable\n",
    "from PIL import Image, ImageDraw, ImageFont\n",
    "table = PrettyTable()\n",
    "table.field_names = ['Var', 'OLS','DML-L','DML-Boost','DML-NN']\n",
    "a = ['Mean θ_hat']+ np.mean(MC_θ, axis = 0).tolist()\n",
    "table.add_row(a)\n",
    "a = ['Stdev θ_hat']+ np.std(MC_θ, axis = 0).tolist()\n",
    "table.add_row(a)\n",
    "a = ['97.5 Quantile θ_hat']+ np.quantile(MC_θ,0.975, axis = 0).tolist()\n",
    "table.add_row(a)\n",
    "a = ['2.5 Quantile θ_hat']+ np.quantile(MC_θ,0.025, axis = 0).tolist()\n",
    "table.add_row(a)\n",
    "a = ['First Stage Y R2']+ np.mean(MC_y, axis = 0).tolist()\n",
    "table.add_row(a)\n",
    "a = ['First Stage D Accuracy']+ np.mean(MC_t, axis = 0).tolist()\n",
    "table.add_row(a)\n",
    "table.float_format = '0.3'\n",
    "print(table)"
   ]
  },
  {
   "cell_type": "code",
   "execution_count": null,
   "id": "8a5acecf",
   "metadata": {},
   "outputs": [],
   "source": [
    "import seaborn as sns\n",
    "import pandas as pd \n",
    "import matplotlib.pyplot as plt \n",
    "df = pd.DataFrame(MC_θ,columns=['OLS','DML-L','DML-XGB','DML-NN'])\n",
    "plt.figure(figsize=(10,10))\n",
    "sns.kdeplot(df)\n",
    "plt.axvline(0.5, color='black')\n",
    "plt.savefig('ex2g.png')"
   ]
  },
  {
   "cell_type": "code",
   "execution_count": null,
   "id": "b847c801",
   "metadata": {},
   "outputs": [],
   "source": []
  }
 ],
 "metadata": {
  "kernelspec": {
   "display_name": "Python 3 (ipykernel)",
   "language": "python",
   "name": "python3"
  },
  "language_info": {
   "codemirror_mode": {
    "name": "ipython",
    "version": 3
   },
   "file_extension": ".py",
   "mimetype": "text/x-python",
   "name": "python",
   "nbconvert_exporter": "python",
   "pygments_lexer": "ipython3",
   "version": "3.10.8"
  }
 },
 "nbformat": 4,
 "nbformat_minor": 5
}
