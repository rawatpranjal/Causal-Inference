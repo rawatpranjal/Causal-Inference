{
 "cells": [
  {
   "cell_type": "markdown",
   "id": "b578d08c",
   "metadata": {},
   "source": [
    "# Graphs\n",
    "\n",
    "- have \"nodes\" and \"directed edges\"\n",
    "- \"nodes\" represent random variables\n",
    "- \"directed edges\" represent functional relationship/causal influence between variables\n",
    "- child nodes are functions of all parent nodes plus an exogenous stochastic component unique to itself\n",
    "- root node has no 'factors' but is also stochastic\n",
    "- the parameters that link variables are fixed and unchanging i.e structural parameters\n",
    "- many observations can be generated from the same graph"
   ]
  },
  {
   "cell_type": "code",
   "execution_count": 203,
   "id": "9723ee7f",
   "metadata": {},
   "outputs": [
    {
     "data": {
      "image/png": "[encoded data removed]",
      "text/plain": [
       "<Figure size 432x288 with 1 Axes>"
      ]
     },
     "metadata": {},
     "output_type": "display_data"
    }
   ],
   "source": [
    "import networkx as nx\n",
    "G = nx.DiGraph()\n",
    "G.add_nodes_from(['rain', 'wet', 'accident'])\n",
    "G.add_edge('rain', 'wet')\n",
    "G.add_edge('wet', 'accident')\n",
    "\n",
    "options = {\n",
    "    \"font_size\": 10,\n",
    "    \"node_size\": 3000,\n",
    "    \"node_color\": \"red\",\n",
    "    \"edgecolors\": \"black\",\n",
    "    \"linewidths\": 1,\n",
    "    \"width\": 5,\n",
    "}\n",
    "\n",
    "nx.draw(G, **options, with_labels=True)\n",
    "plt.show()"
   ]
  },
  {
   "cell_type": "markdown",
   "id": "d6974cb2",
   "metadata": {},
   "source": [
    "- Rain influences wetness which influences accidents\n",
    "- But each has intrisic randomness, there are no deterministic relationships\n",
    "- we generate N datapoints from this causal graph\n",
    "- the prob of wetness if it rains is 0.7\n",
    "- the prob of accidents if is wet is 0.7\n",
    "- rain is not somewhat related to accidents but its correlation is very little"
   ]
  },
  {
   "cell_type": "code",
   "execution_count": 212,
   "id": "6ac4bb64",
   "metadata": {},
   "outputs": [
    {
     "data": {
      "text/html": [
       "<div>\n",
       "<style scoped>\n",
       "    .dataframe tbody tr th:only-of-type {\n",
       "        vertical-align: middle;\n",
       "    }\n",
       "\n",
       "    .dataframe tbody tr th {\n",
       "        vertical-align: top;\n",
       "    }\n",
       "\n",
       "    .dataframe thead th {\n",
       "        text-align: right;\n",
       "    }\n",
       "</style>\n",
       "<table border=\"1\" class=\"dataframe\">\n",
       "  <thead>\n",
       "    <tr style=\"text-align: right;\">\n",
       "      <th></th>\n",
       "      <th>rain</th>\n",
       "      <th>wet</th>\n",
       "      <th>accident</th>\n",
       "    </tr>\n",
       "  </thead>\n",
       "  <tbody>\n",
       "    <tr>\n",
       "      <th>0</th>\n",
       "      <td>0</td>\n",
       "      <td>0</td>\n",
       "      <td>0</td>\n",
       "    </tr>\n",
       "    <tr>\n",
       "      <th>1</th>\n",
       "      <td>0</td>\n",
       "      <td>1</td>\n",
       "      <td>1</td>\n",
       "    </tr>\n",
       "    <tr>\n",
       "      <th>2</th>\n",
       "      <td>1</td>\n",
       "      <td>1</td>\n",
       "      <td>0</td>\n",
       "    </tr>\n",
       "    <tr>\n",
       "      <th>3</th>\n",
       "      <td>1</td>\n",
       "      <td>1</td>\n",
       "      <td>1</td>\n",
       "    </tr>\n",
       "    <tr>\n",
       "      <th>4</th>\n",
       "      <td>0</td>\n",
       "      <td>1</td>\n",
       "      <td>0</td>\n",
       "    </tr>\n",
       "    <tr>\n",
       "      <th>5</th>\n",
       "      <td>0</td>\n",
       "      <td>0</td>\n",
       "      <td>0</td>\n",
       "    </tr>\n",
       "    <tr>\n",
       "      <th>6</th>\n",
       "      <td>0</td>\n",
       "      <td>0</td>\n",
       "      <td>1</td>\n",
       "    </tr>\n",
       "    <tr>\n",
       "      <th>7</th>\n",
       "      <td>0</td>\n",
       "      <td>0</td>\n",
       "      <td>0</td>\n",
       "    </tr>\n",
       "    <tr>\n",
       "      <th>8</th>\n",
       "      <td>0</td>\n",
       "      <td>1</td>\n",
       "      <td>1</td>\n",
       "    </tr>\n",
       "    <tr>\n",
       "      <th>9</th>\n",
       "      <td>1</td>\n",
       "      <td>0</td>\n",
       "      <td>0</td>\n",
       "    </tr>\n",
       "    <tr>\n",
       "      <th>10</th>\n",
       "      <td>1</td>\n",
       "      <td>0</td>\n",
       "      <td>0</td>\n",
       "    </tr>\n",
       "    <tr>\n",
       "      <th>11</th>\n",
       "      <td>0</td>\n",
       "      <td>1</td>\n",
       "      <td>1</td>\n",
       "    </tr>\n",
       "    <tr>\n",
       "      <th>12</th>\n",
       "      <td>1</td>\n",
       "      <td>1</td>\n",
       "      <td>1</td>\n",
       "    </tr>\n",
       "    <tr>\n",
       "      <th>13</th>\n",
       "      <td>0</td>\n",
       "      <td>0</td>\n",
       "      <td>0</td>\n",
       "    </tr>\n",
       "    <tr>\n",
       "      <th>14</th>\n",
       "      <td>0</td>\n",
       "      <td>1</td>\n",
       "      <td>1</td>\n",
       "    </tr>\n",
       "    <tr>\n",
       "      <th>15</th>\n",
       "      <td>0</td>\n",
       "      <td>1</td>\n",
       "      <td>0</td>\n",
       "    </tr>\n",
       "    <tr>\n",
       "      <th>16</th>\n",
       "      <td>1</td>\n",
       "      <td>0</td>\n",
       "      <td>0</td>\n",
       "    </tr>\n",
       "    <tr>\n",
       "      <th>17</th>\n",
       "      <td>1</td>\n",
       "      <td>0</td>\n",
       "      <td>0</td>\n",
       "    </tr>\n",
       "    <tr>\n",
       "      <th>18</th>\n",
       "      <td>0</td>\n",
       "      <td>1</td>\n",
       "      <td>1</td>\n",
       "    </tr>\n",
       "    <tr>\n",
       "      <th>19</th>\n",
       "      <td>1</td>\n",
       "      <td>1</td>\n",
       "      <td>0</td>\n",
       "    </tr>\n",
       "  </tbody>\n",
       "</table>\n",
       "</div>"
      ],
      "text/plain": [
       "    rain  wet  accident\n",
       "0      0    0         0\n",
       "1      0    1         1\n",
       "2      1    1         0\n",
       "3      1    1         1\n",
       "4      0    1         0\n",
       "5      0    0         0\n",
       "6      0    0         1\n",
       "7      0    0         0\n",
       "8      0    1         1\n",
       "9      1    0         0\n",
       "10     1    0         0\n",
       "11     0    1         1\n",
       "12     1    1         1\n",
       "13     0    0         0\n",
       "14     0    1         1\n",
       "15     0    1         0\n",
       "16     1    0         0\n",
       "17     1    0         0\n",
       "18     0    1         1\n",
       "19     1    1         0"
      ]
     },
     "execution_count": 212,
     "metadata": {},
     "output_type": "execute_result"
    }
   ],
   "source": [
    "# Datapoints\n",
    "N = 10000\n",
    "\n",
    "# Rains randomly half the time\n",
    "rain = np.random.choice([0,1], N, p = [0.5, 0.5])\n",
    "\n",
    "# When it rains the road is likely to get wet\n",
    "wet = np.zeros(N)\n",
    "for i in range(0, N, 1):\n",
    "    if rain[i] == 1:\n",
    "        wet[i] = np.random.choice([0,1], 1, p = [0.3, 0.7])\n",
    "    else:\n",
    "        wet[i] = np.random.choice([0,1], 1, p = [0.7, 0.3])\n",
    "\n",
    "# When the road is wet there is likelihood of accidents\n",
    "accident = np.zeros(N)\n",
    "for i in range(0, N, 1):\n",
    "    if wet[i] == 1:\n",
    "        accident[i] = np.random.choice([0,1], 1, p = [0.3, 0.7])\n",
    "    else:\n",
    "        accident[i] = np.random.choice([0,1], 1, p = [0.7, 0.3])\n",
    "\n",
    "data = np.c_[rain, wet, accident]\n",
    "import pandas as pd\n",
    "df = pd.DataFrame(data.astype(int), columns = ['rain', 'wet', 'accident'])\n",
    "df.head(20)"
   ]
  },
  {
   "cell_type": "code",
   "execution_count": 213,
   "id": "86ff06e9",
   "metadata": {},
   "outputs": [
    {
     "data": {
      "text/plain": [
       "rain        0.5011\n",
       "wet         0.4953\n",
       "accident    0.4890\n",
       "dtype: float64"
      ]
     },
     "execution_count": 213,
     "metadata": {},
     "output_type": "execute_result"
    }
   ],
   "source": [
    "# roughly half the days we see rain / wetness / accidents\n",
    "df.mean()"
   ]
  },
  {
   "cell_type": "code",
   "execution_count": 214,
   "id": "baf7309a",
   "metadata": {},
   "outputs": [
    {
     "data": {
      "text/html": [
       "<div>\n",
       "<style scoped>\n",
       "    .dataframe tbody tr th:only-of-type {\n",
       "        vertical-align: middle;\n",
       "    }\n",
       "\n",
       "    .dataframe tbody tr th {\n",
       "        vertical-align: top;\n",
       "    }\n",
       "\n",
       "    .dataframe thead th {\n",
       "        text-align: right;\n",
       "    }\n",
       "</style>\n",
       "<table border=\"1\" class=\"dataframe\">\n",
       "  <thead>\n",
       "    <tr style=\"text-align: right;\">\n",
       "      <th></th>\n",
       "      <th>rain</th>\n",
       "      <th>wet</th>\n",
       "      <th>accident</th>\n",
       "    </tr>\n",
       "  </thead>\n",
       "  <tbody>\n",
       "    <tr>\n",
       "      <th>rain</th>\n",
       "      <td>1.000000</td>\n",
       "      <td>0.388839</td>\n",
       "      <td>0.137882</td>\n",
       "    </tr>\n",
       "    <tr>\n",
       "      <th>wet</th>\n",
       "      <td>0.388839</td>\n",
       "      <td>1.000000</td>\n",
       "      <td>0.398107</td>\n",
       "    </tr>\n",
       "    <tr>\n",
       "      <th>accident</th>\n",
       "      <td>0.137882</td>\n",
       "      <td>0.398107</td>\n",
       "      <td>1.000000</td>\n",
       "    </tr>\n",
       "  </tbody>\n",
       "</table>\n",
       "</div>"
      ],
      "text/plain": [
       "              rain       wet  accident\n",
       "rain      1.000000  0.388839  0.137882\n",
       "wet       0.388839  1.000000  0.398107\n",
       "accident  0.137882  0.398107  1.000000"
      ]
     },
     "execution_count": 214,
     "metadata": {},
     "output_type": "execute_result"
    }
   ],
   "source": [
    "# Rain correlates to wetness not accidents\n",
    "# wetness correlated to both rain and accidents\n",
    "# accidents correlate only to wetness, not rain\n",
    "df.corr()"
   ]
  },
  {
   "cell_type": "code",
   "execution_count": 215,
   "id": "aa272943",
   "metadata": {},
   "outputs": [
    {
     "data": {
      "text/plain": [
       "rain        1.000000\n",
       "wet         0.689284\n",
       "accident    0.557773\n",
       "dtype: float64"
      ]
     },
     "execution_count": 215,
     "metadata": {},
     "output_type": "execute_result"
    }
   ],
   "source": [
    "df[df.rain==1].mean()"
   ]
  },
  {
   "cell_type": "code",
   "execution_count": 217,
   "id": "5a447216",
   "metadata": {},
   "outputs": [
    {
     "data": {
      "text/plain": [
       "rain        0.697355\n",
       "wet         1.000000\n",
       "accident    0.689885\n",
       "dtype: float64"
      ]
     },
     "execution_count": 217,
     "metadata": {},
     "output_type": "execute_result"
    }
   ],
   "source": [
    "df[df.wet==1].mean()"
   ]
  },
  {
   "cell_type": "code",
   "execution_count": null,
   "id": "0c345e6b",
   "metadata": {},
   "outputs": [],
   "source": []
  }
 ],
 "metadata": {
  "kernelspec": {
   "display_name": "Python 3 (ipykernel)",
   "language": "python",
   "name": "python3"
  },
  "language_info": {
   "codemirror_mode": {
    "name": "ipython",
    "version": 3
   },
   "file_extension": ".py",
   "mimetype": "text/x-python",
   "name": "python",
   "nbconvert_exporter": "python",
   "pygments_lexer": "ipython3",
   "version": "3.10.5"
  }
 },
 "nbformat": 4,
 "nbformat_minor": 5
}
